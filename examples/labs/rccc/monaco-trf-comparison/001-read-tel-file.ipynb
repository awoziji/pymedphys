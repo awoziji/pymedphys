{
 "cells": [
  {
   "cell_type": "code",
   "execution_count": null,
   "metadata": {},
   "outputs": [],
   "source": [
    "import os\n",
    "import win32file\n",
    "import msvcrt\n",
    "\n",
    "import pymedphys"
   ]
  },
  {
   "cell_type": "code",
   "execution_count": null,
   "metadata": {},
   "outputs": [],
   "source": [
    "data_paths = pymedphys.zip_data_paths(\"monaco_to_trf.zip\")"
   ]
  },
  {
   "cell_type": "code",
   "execution_count": null,
   "metadata": {},
   "outputs": [],
   "source": [
    "tel_paths = [path for path in data_paths if \"tel\" in path.name]\n",
    "assert len(tel_paths) == 1\n",
    "tel_path = tel_paths[0]"
   ]
  },
  {
   "cell_type": "code",
   "execution_count": null,
   "metadata": {},
   "outputs": [],
   "source": [
    "tel_path"
   ]
  },
  {
   "cell_type": "code",
   "execution_count": null,
   "metadata": {},
   "outputs": [],
   "source": [
    "handle = win32file.CreateFile(\n",
    "    str(tel_path),\n",
    "    win32file.GENERIC_READ,\n",
    "    win32file.FILE_SHARE_DELETE |\n",
    "    win32file.FILE_SHARE_READ |\n",
    "    win32file.FILE_SHARE_WRITE,\n",
    "    None,\n",
    "    win32file.OPEN_EXISTING,\n",
    "    0,\n",
    "    None)\n",
    "\n",
    "\n",
    "detached_handle = handle.Detach()\n",
    "\n",
    "file_descriptor = msvcrt.open_osfhandle(\n",
    "    detached_handle, os.O_RDONLY)\n",
    "\n",
    "with open(file_descriptor) as file:\n",
    "    data = file.read()"
   ]
  },
  {
   "cell_type": "code",
   "execution_count": null,
   "metadata": {},
   "outputs": [],
   "source": [
    "data"
   ]
  },
  {
   "cell_type": "code",
   "execution_count": null,
   "metadata": {},
   "outputs": [],
   "source": []
  }
 ],
 "metadata": {
  "kernelspec": {
   "display_name": "pymedphys-master",
   "language": "python",
   "name": "pymedphys-master"
  },
  "language_info": {
   "codemirror_mode": {
    "name": "ipython",
    "version": 3
   },
   "file_extension": ".py",
   "mimetype": "text/x-python",
   "name": "python",
   "nbconvert_exporter": "python",
   "pygments_lexer": "ipython3",
   "version": "3.7.0"
  }
 },
 "nbformat": 4,
 "nbformat_minor": 4
}
