{
 "cells": [
  {
   "cell_type": "code",
   "execution_count": null,
   "metadata": {},
   "outputs": [],
   "source": [
    "import pathlib\n",
    "import shutil\n",
    "\n",
    "import pandas as pd"
   ]
  },
  {
   "cell_type": "code",
   "execution_count": null,
   "metadata": {},
   "outputs": [],
   "source": [
    "original_dir = pathlib.Path(r'S:\\DataExchange\\iViewDB')\n",
    "decoded_dir = pathlib.Path(r'S:\\DataExchange\\iViewDB_decoded')"
   ]
  },
  {
   "cell_type": "code",
   "execution_count": null,
   "metadata": {},
   "outputs": [],
   "source": [
    "table_copies_dir = decoded_dir.joinpath('table_copies')"
   ]
  },
  {
   "cell_type": "code",
   "execution_count": null,
   "metadata": {},
   "outputs": [],
   "source": [
    "original_database_files = list(original_dir.glob('*.DBF'))\n",
    "for filepath in original_database_files:\n",
    "    new_path = table_copies_dir.joinpath(filepath.name)\n",
    "    shutil.copy2(filepath, new_path)"
   ]
  },
  {
   "cell_type": "code",
   "execution_count": null,
   "metadata": {},
   "outputs": [],
   "source": [
    "table_paths = {\n",
    "    'patient': table_copies_dir.joinpath('PATIENT.DBF'),\n",
    "    'treatment': table_copies_dir.joinpath('TRTMNT.DBF'),\n",
    "    'port': table_copies_dir.joinpath('PORT.DBF'),\n",
    "    'patient_image': table_copies_dir.joinpath('PATIMG.DBF'),\n",
    "    'frame': table_copies_dir.joinpath('FRAME.DBF'),\n",
    "}"
   ]
  },
  {
   "cell_type": "code",
   "execution_count": null,
   "metadata": {},
   "outputs": [],
   "source": [
    "pd.read"
   ]
  }
 ],
 "metadata": {
  "kernelspec": {
   "display_name": "pymedphys-master",
   "language": "python",
   "name": "pymedphys-master"
  },
  "language_info": {
   "codemirror_mode": {
    "name": "ipython",
    "version": 3
   },
   "file_extension": ".py",
   "mimetype": "text/x-python",
   "name": "python",
   "nbconvert_exporter": "python",
   "pygments_lexer": "ipython3",
   "version": "3.7.0"
  }
 },
 "nbformat": 4,
 "nbformat_minor": 4
}
