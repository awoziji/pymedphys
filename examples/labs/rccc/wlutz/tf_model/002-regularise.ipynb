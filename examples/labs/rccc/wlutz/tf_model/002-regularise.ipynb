{
 "cells": [
  {
   "cell_type": "code",
   "execution_count": null,
   "metadata": {},
   "outputs": [],
   "source": [
    "%load_ext autoreload\n",
    "%autoreload 2"
   ]
  },
  {
   "cell_type": "code",
   "execution_count": null,
   "metadata": {},
   "outputs": [],
   "source": [
    "import json\n",
    "\n",
    "import numpy as np\n",
    "import matplotlib.pyplot as plt\n",
    "\n",
    "from tqdm import tqdm\n",
    "\n",
    "import pymedphys\n",
    "import pymedphys._wlutz.findfield\n",
    "import pymedphys._wlutz.iview\n",
    "import pymedphys._wlutz.imginterp\n",
    "import pymedphys._wlutz.reporting"
   ]
  },
  {
   "cell_type": "code",
   "execution_count": null,
   "metadata": {},
   "outputs": [],
   "source": [
    "bb_diameter = 8\n",
    "edge_length = [20, 24]\n",
    "penumbra = 2"
   ]
  },
  {
   "cell_type": "code",
   "execution_count": null,
   "metadata": {},
   "outputs": [],
   "source": [
    "training_data_paths = pymedphys.zenodo_data_paths('wlutz_tensorflow_training_data')"
   ]
  },
  {
   "cell_type": "code",
   "execution_count": null,
   "metadata": {},
   "outputs": [],
   "source": [
    "image_paths = {path.stem: path for path in training_data_paths if path.suffix == '.png'}\n",
    "labels_path = [path for path in training_data_paths if path.suffix == '.json'][0]"
   ]
  },
  {
   "cell_type": "code",
   "execution_count": null,
   "metadata": {},
   "outputs": [],
   "source": [
    "with open(labels_path, 'r') as labels_file:\n",
    "    labels = json.load(labels_file)"
   ]
  },
  {
   "cell_type": "code",
   "execution_count": null,
   "metadata": {},
   "outputs": [],
   "source": [
    "keys = list(image_paths.keys())"
   ]
  },
  {
   "cell_type": "code",
   "execution_count": null,
   "metadata": {},
   "outputs": [],
   "source": [
    "training_keys = keys[0:100]"
   ]
  },
  {
   "cell_type": "code",
   "execution_count": null,
   "metadata": {},
   "outputs": [],
   "source": [
    "def load_and_regularise_data_and_labels(image_paths, all_labels, keys, dx=1/8, img_range=40):\n",
    "    vec_about_zero = np.arange(-img_range/2, img_range/2+dx, dx)\n",
    "    \n",
    "    labels = []\n",
    "    images = []    \n",
    "    \n",
    "    for key in tqdm(keys):\n",
    "        label = all_labels[key]['pymedphys']\n",
    "        \n",
    "        if 'bb_centre' not in label.keys():\n",
    "            continue\n",
    "        \n",
    "        image_path = image_paths[key]\n",
    "        x, y, img = pymedphys._wlutz.iview.iview_image_transform(image_path)\n",
    "        \n",
    "        centre_of_mass = pymedphys._wlutz.findfield.get_centre_of_mass(x, y, img)\n",
    "        field = pymedphys._wlutz.imginterp.create_interpolated_field(x, y, img)\n",
    "        \n",
    "        x_interp = vec_about_zero + centre_of_mass[0]\n",
    "        y_interp = vec_about_zero + centre_of_mass[1]\n",
    "        \n",
    "        xx, yy = np.meshgrid(x_interp, y_interp)\n",
    "        interpolated_image = field(xx, yy)\n",
    "        \n",
    "        field_centre = np.array(label['field_centre']) - np.array(centre_of_mass)\n",
    "        field_rotation = label['field_rotation']\n",
    "        bb_centre = np.array(label['bb_centre']) - np.array(centre_of_mass)\n",
    "        \n",
    "        labels.append([field_centre[0], field_centre[1], field_rotation, bb_centre[0], bb_centre[1]])\n",
    "        images.append(interpolated_image)\n",
    "    \n",
    "    return np.array(images), np.array(labels)"
   ]
  },
  {
   "cell_type": "code",
   "execution_count": null,
   "metadata": {},
   "outputs": [],
   "source": [
    "images, labels = load_and_regularise_data_and_labels(image_paths, labels, training_keys)"
   ]
  },
  {
   "cell_type": "code",
   "execution_count": null,
   "metadata": {},
   "outputs": [],
   "source": [
    "np.shape(images)"
   ]
  },
  {
   "cell_type": "code",
   "execution_count": null,
   "metadata": {},
   "outputs": [],
   "source": [
    "np.shape(labels)"
   ]
  },
  {
   "cell_type": "code",
   "execution_count": null,
   "metadata": {},
   "outputs": [],
   "source": [
    "def create_masks"
   ]
  }
 ],
 "metadata": {
  "kernelspec": {
   "display_name": "pymedphys-master",
   "language": "python",
   "name": "pymedphys-master"
  },
  "language_info": {
   "codemirror_mode": {
    "name": "ipython",
    "version": 3
   },
   "file_extension": ".py",
   "mimetype": "text/x-python",
   "name": "python",
   "nbconvert_exporter": "python",
   "pygments_lexer": "ipython3",
   "version": "3.6.9"
  }
 },
 "nbformat": 4,
 "nbformat_minor": 4
}
