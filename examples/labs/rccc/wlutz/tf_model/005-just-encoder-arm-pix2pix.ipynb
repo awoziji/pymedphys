{
 "cells": [
  {
   "cell_type": "code",
   "execution_count": null,
   "metadata": {},
   "outputs": [],
   "source": [
    "import json\n",
    "\n",
    "from tqdm import tqdm\n",
    "\n",
    "import numpy as np\n",
    "import matplotlib.pyplot as plt\n",
    "import matplotlib.path\n",
    "\n",
    "import tensorflow as tf"
   ]
  },
  {
   "cell_type": "code",
   "execution_count": null,
   "metadata": {},
   "outputs": [],
   "source": [
    "%load_ext autoreload\n",
    "%autoreload 2"
   ]
  },
  {
   "cell_type": "code",
   "execution_count": null,
   "metadata": {},
   "outputs": [],
   "source": [
    "import pymedphys\n",
    "import pymedphys._wlutz.findfield\n",
    "import pymedphys._wlutz.iview\n",
    "import pymedphys._wlutz.imginterp\n",
    "import pymedphys._wlutz.reporting\n",
    "import pymedphys._wlutz.interppoints"
   ]
  },
  {
   "cell_type": "code",
   "execution_count": null,
   "metadata": {},
   "outputs": [],
   "source": [
    "bb_diameter = 8 * 2\n",
    "edge_lengths = np.array([20, 24]) * 2\n",
    "penumbra = 2 * 2"
   ]
  },
  {
   "cell_type": "code",
   "execution_count": null,
   "metadata": {},
   "outputs": [],
   "source": [
    "training_data_paths = pymedphys.zenodo_data_paths('wlutz_tensorflow_training_data')"
   ]
  },
  {
   "cell_type": "code",
   "execution_count": null,
   "metadata": {},
   "outputs": [],
   "source": [
    "image_paths = {path.stem: path for path in training_data_paths if path.suffix == '.png'}\n",
    "labels_path = [path for path in training_data_paths if path.suffix == '.json'][0]"
   ]
  },
  {
   "cell_type": "code",
   "execution_count": null,
   "metadata": {},
   "outputs": [],
   "source": [
    "with open(labels_path, 'r') as labels_file:\n",
    "    all_labels = json.load(labels_file)"
   ]
  },
  {
   "cell_type": "code",
   "execution_count": null,
   "metadata": {},
   "outputs": [],
   "source": [
    "labels = {key: label['pymedphys'] for key, label in all_labels.items() if 'bb_centre' in label['pymedphys']}\n",
    "keys = np.array(list(labels.keys()))\n",
    "np.random.shuffle(keys)"
   ]
  },
  {
   "cell_type": "code",
   "execution_count": null,
   "metadata": {},
   "outputs": [],
   "source": [
    "split_a = len(keys) // 8\n",
    "split_b = len(keys) // 4\n",
    "\n",
    "validation_keys = keys[0:split_a]\n",
    "test_keys = keys[split_a:split_b]\n",
    "train_keys = keys[split_b::]"
   ]
  },
  {
   "cell_type": "code",
   "execution_count": null,
   "metadata": {},
   "outputs": [],
   "source": [
    "key = keys[0]\n",
    "\n",
    "image_path = str(image_paths[key])\n",
    "label = labels[key]\n",
    "\n",
    "# image = tf.io.read_file(image_path)\n",
    "# image = tf.io.decode_png(image)\n",
    "\n",
    "# tf.shape(image)"
   ]
  },
  {
   "cell_type": "code",
   "execution_count": null,
   "metadata": {},
   "outputs": [],
   "source": []
  },
  {
   "cell_type": "code",
   "execution_count": null,
   "metadata": {},
   "outputs": [],
   "source": [
    "label"
   ]
  },
  {
   "cell_type": "code",
   "execution_count": null,
   "metadata": {},
   "outputs": [],
   "source": [
    "field_rotation = label['field_rotation']"
   ]
  },
  {
   "cell_type": "code",
   "execution_count": null,
   "metadata": {},
   "outputs": [],
   "source": []
  },
  {
   "cell_type": "code",
   "execution_count": null,
   "metadata": {},
   "outputs": [],
   "source": [
    "image = tf.io.read_file(image_path)\n",
    "image = tf.io.decode_png(image)\n",
    "\n",
    "dim = tf.shape(image)\n",
    "if dim[0] == 1024 and dim[1] == 1024:\n",
    "    image = image[1::2, ::2, :]\n",
    "    \n",
    "image = tf.image.central_crop(image, 0.25)\n",
    "image = tf.reverse(image, [1])\n",
    "image = tf.cast(image, tf.float32)\n",
    "\n",
    "image = 1 - (image / 127.5)\n",
    "\n",
    "\n",
    "plt.imshow(image[:,:,0])\n",
    "plt.colorbar()"
   ]
  },
  {
   "cell_type": "code",
   "execution_count": null,
   "metadata": {},
   "outputs": [],
   "source": [
    "x = tf.range(0,128)\n",
    "y = x"
   ]
  },
  {
   "cell_type": "code",
   "execution_count": null,
   "metadata": {},
   "outputs": [],
   "source": [
    "[-0.5, -1]"
   ]
  },
  {
   "cell_type": "code",
   "execution_count": null,
   "metadata": {},
   "outputs": [],
   "source": [
    "def transform_to_abs(coords):\n",
    "    return 63 - np.array(coords)*2\n",
    "\n",
    "\n",
    "field_centre = transform_to_abs(label['field_centre'])\n",
    "bb_centre = transform_to_abs(label['bb_centre'])"
   ]
  },
  {
   "cell_type": "code",
   "execution_count": null,
   "metadata": {},
   "outputs": [],
   "source": [
    "dim[0] == 1024 and dim[1] == 1024"
   ]
  },
  {
   "cell_type": "code",
   "execution_count": null,
   "metadata": {},
   "outputs": [],
   "source": [
    "np.array(pymedphys._wlutz.interppoints.translate_and_rotate_transform([10,20], 60))"
   ]
  },
  {
   "cell_type": "code",
   "execution_count": null,
   "metadata": {},
   "outputs": [],
   "source": [
    "np.sin(60/180*np.pi)"
   ]
  },
  {
   "cell_type": "code",
   "execution_count": null,
   "metadata": {},
   "outputs": [],
   "source": [
    "tf.constant([7, 9, 11], shape=[3])"
   ]
  },
  {
   "cell_type": "code",
   "execution_count": null,
   "metadata": {},
   "outputs": [],
   "source": [
    "tf.math.sin(field_rotation_radians)"
   ]
  },
  {
   "cell_type": "code",
   "execution_count": null,
   "metadata": {},
   "outputs": [],
   "source": [
    "# field_rotation_radians = field_rotation / 180 * np.pi\n",
    "# sin = tf.math.sin(field_rotation_radians)\n",
    "# cos = tf.math.cos(field_rotation_radians)\n",
    "# x = field_centre[0]\n",
    "# y = field_centre[1]"
   ]
  },
  {
   "cell_type": "code",
   "execution_count": null,
   "metadata": {},
   "outputs": [],
   "source": [
    "def get_transformation_matrix(field_centre, field_rotation):\n",
    "    field_rotation_radians = field_rotation / 180 * np.pi\n",
    "    sin = tf.math.sin(field_rotation_radians)\n",
    "    cos = tf.math.cos(field_rotation_radians)\n",
    "    x = field_centre[0]\n",
    "    y = field_centre[1]\n",
    "\n",
    "    return tf.constant([(cos, -sin, x), (sin, cos, y), (0, 0, 1)])"
   ]
  },
  {
   "cell_type": "code",
   "execution_count": null,
   "metadata": {},
   "outputs": [],
   "source": [
    "def create_mask(field_centre, field_rotation, bb_centre):\n",
    "    field_transform = get_transformation_matrix(field_centre, field_rotation)\n",
    "    rect_dx = [-edge_lengths[0] / 2, 0, edge_lengths[0], 0, -edge_lengths[0]]\n",
    "    rect_dy = [-edge_lengths[1] / 2, edge_lengths[1], 0, -edge_lengths[1], 0]\n",
    "\n",
    "    draw_x = np.cumsum(rect_dx)\n",
    "    draw_y = np.cumsum(rect_dy)\n",
    "\n",
    "    rect_x, rect_y = pymedphys._wlutz.interppoints.apply_transform(draw_x, draw_y, field_transform)\n",
    "    rect_points = list(zip(rect_x, rect_y))\n",
    "\n",
    "    rectangle = matplotlib.path.Path(rect_points)\n",
    "\n",
    "    points = np.swapaxes(np.vstack([xx_about_zero.ravel(), yy_about_zero.ravel()]), 0, 1)\n",
    "    rectangle_mask = rectangle.contains_points(points).reshape(len(yy_about_zero), len(xx_about_zero))\n",
    "\n",
    "    within_bb = np.sqrt((xx_about_zero - bb_centre[0])**2 + (yy_about_zero - bb_centre[1])**2) <= bb_diameter/2\n",
    "    \n",
    "    background = np.invert(rectangle_mask) & np.invert(within_bb)\n",
    "    \n",
    "    segmentation_mask = np.concatenate([background[:,:,None], rectangle_mask[:,:,None], within_bb[:,:,None]], axis=2)\n",
    "    \n",
    "    return segmentation_mask"
   ]
  },
  {
   "cell_type": "code",
   "execution_count": null,
   "metadata": {},
   "outputs": [],
   "source": [
    "def decode(tensor):\n",
    "    field_centre = [tensor[0], tensor[1]]\n",
    "    field_rotation = tensor[2]\n",
    "    bb_centre = [tensor[3], tensor[4]]\n",
    "    \n",
    "    return create_mask(field_centre, field_rotation, bb_centre)"
   ]
  },
  {
   "cell_type": "code",
   "execution_count": null,
   "metadata": {},
   "outputs": [],
   "source": [
    "def load(image_path, encoding):\n",
    "    image = tf.io.read_file(image_path)\n",
    "    image = tf.io.decode_png(image)\n",
    "\n",
    "    dim = tf.shape(image)\n",
    "    if dim[0] == 1024 and dim[1] == 1024:\n",
    "        image = image[1::2, ::2, :]\n",
    "\n",
    "    image = tf.image.central_crop(image, 0.25)\n",
    "    image = tf.reverse(image, [1])\n",
    "    image = tf.cast(image, tf.float32)\n",
    "\n",
    "    image = 1 - (image / 127.5)\n",
    "    \n",
    "    mask = decode(encoding)\n",
    "    \n",
    "    return image, mask"
   ]
  },
  {
   "cell_type": "code",
   "execution_count": null,
   "metadata": {},
   "outputs": [],
   "source": [
    "# train_labels = {key: labels[key] for key in train_keys}\n",
    "# train_labels"
   ]
  },
  {
   "cell_type": "code",
   "execution_count": null,
   "metadata": {},
   "outputs": [],
   "source": [
    "def transform_to_abs(coords):\n",
    "    return 63 - np.array(coords)*2\n",
    "\n",
    "\n",
    "def transform_labels(label):\n",
    "    field_rotation = label['field_rotation']\n",
    "    field_centre = transform_to_abs(label['field_centre'])\n",
    "    bb_centre = transform_to_abs(label['bb_centre'])\n",
    "    encoding = [field_centre[0], field_centre[1], field_rotation, bb_centre[0], bb_centre[1]]\n",
    "    \n",
    "    return encoding"
   ]
  },
  {
   "cell_type": "code",
   "execution_count": null,
   "metadata": {},
   "outputs": [],
   "source": [
    "def get_dataset(keys, image_paths, labels):\n",
    "    image_paths_array = np.array([str(image_paths[key]) for key in keys])\n",
    "    labels_array = np.array([transform_labels(labels[key]) for key in keys])\n",
    "\n",
    "    dataset = tf.data.Dataset.from_tensor_slices((image_paths_array, labels_array))\n",
    "    dataset = dataset.map(load)"
   ]
  },
  {
   "cell_type": "code",
   "execution_count": null,
   "metadata": {},
   "outputs": [],
   "source": [
    "train_dataset = get_dataset(train_keys, image_paths, labels)"
   ]
  },
  {
   "cell_type": "code",
   "execution_count": null,
   "metadata": {},
   "outputs": [],
   "source": []
  },
  {
   "cell_type": "code",
   "execution_count": null,
   "metadata": {},
   "outputs": [],
   "source": [
    "image_paths train_keys"
   ]
  },
  {
   "cell_type": "code",
   "execution_count": null,
   "metadata": {},
   "outputs": [],
   "source": [
    "train_dataset = tf.data.Dataset.from_tensor_slices((train_keys,))\n",
    "train_dataset"
   ]
  },
  {
   "cell_type": "code",
   "execution_count": null,
   "metadata": {},
   "outputs": [],
   "source": [
    "train_dataset = tf.data.Dataset.from_generator"
   ]
  },
  {
   "cell_type": "code",
   "execution_count": null,
   "metadata": {},
   "outputs": [],
   "source": []
  },
  {
   "cell_type": "code",
   "execution_count": null,
   "metadata": {},
   "outputs": [],
   "source": [
    "# fig, axs = pymedphys._wlutz.reporting.image_analysis_figure(\n",
    "#     x, y, np.array(image)[:,:,0],\n",
    "#     bb_centre, field_centre, field_rotation,\n",
    "#     bb_diameter, edge_lengths, penumbra, units=''\n",
    "# )\n",
    "\n",
    "# # plt.contourf(xx_about_zero, yy_about_zero, segmentation_mask, alpha=0.5, cmap='bwr')"
   ]
  }
 ],
 "metadata": {
  "kernelspec": {
   "display_name": "pymedphys-master",
   "language": "python",
   "name": "pymedphys-master"
  },
  "language_info": {
   "codemirror_mode": {
    "name": "ipython",
    "version": 3
   },
   "file_extension": ".py",
   "mimetype": "text/x-python",
   "name": "python",
   "nbconvert_exporter": "python",
   "pygments_lexer": "ipython3",
   "version": "3.7.5"
  }
 },
 "nbformat": 4,
 "nbformat_minor": 4
}
