{
 "cells": [
  {
   "cell_type": "code",
   "execution_count": null,
   "metadata": {},
   "outputs": [],
   "source": [
    "%load_ext autoreload\n",
    "%autoreload 2"
   ]
  },
  {
   "cell_type": "code",
   "execution_count": null,
   "metadata": {},
   "outputs": [],
   "source": [
    "import pathlib\n",
    "import urllib.request\n",
    "\n",
    "import numpy as np\n",
    "import matplotlib.pyplot as plt\n",
    "import matplotlib.transforms\n",
    "import scipy.ndimage.measurements\n",
    "import scipy.interpolate\n",
    "import scipy.optimize\n",
    "\n",
    "import imageio\n",
    "\n",
    "import pymedphys\n",
    "import pymedphys._mocks.profiles\n",
    "import pymedphys._gamma.implementation.shell\n",
    "import pymedphys.labs.winstonlutz.findfield\n",
    "import pymedphys.labs.winstonlutz.createaxis\n",
    "import pymedphys.labs.winstonlutz.interppoints\n",
    "import pymedphys.labs.winstonlutz.imginterp\n"
   ]
  },
  {
   "cell_type": "code",
   "execution_count": null,
   "metadata": {},
   "outputs": [],
   "source": [
    "image_path = pymedphys.data_path('wlutz_image.png')\n",
    "image_path"
   ]
  },
  {
   "cell_type": "code",
   "execution_count": null,
   "metadata": {},
   "outputs": [],
   "source": [
    "img = imageio.imread(image_path)\n",
    "assert np.shape(img) == (1024, 1024)\n",
    "img = img[:, 1:-1]\n",
    "assert np.shape(img) == (1024, 1022)\n",
    "assert img.dtype == np.dtype('uint16')\n",
    "img = 1 - img[::-1,:] / 2**16\n",
    "assert img.dtype == np.dtype('float64')"
   ]
  },
  {
   "cell_type": "code",
   "execution_count": null,
   "metadata": {},
   "outputs": [],
   "source": [
    "shape = np.shape(img)\n",
    "x = np.arange(-shape[1]/2, shape[1]/2)/4\n",
    "y = np.arange(-shape[0]/2, shape[0]/2)/4"
   ]
  },
  {
   "cell_type": "code",
   "execution_count": null,
   "metadata": {},
   "outputs": [],
   "source": [
    "edge_lengths = [20, 20]\n",
    "\n",
    "centre, rotation = pymedphys.labs.winstonlutz.findfield.find_centre_and_rotation(x, y, img, edge_lengths)\n",
    "centre, rotation"
   ]
  },
  {
   "cell_type": "code",
   "execution_count": null,
   "metadata": {},
   "outputs": [],
   "source": []
  },
  {
   "cell_type": "code",
   "execution_count": null,
   "metadata": {},
   "outputs": [],
   "source": [
    "def draw_by_diff(dx, dy, transform):\n",
    "    draw_x = np.cumsum(dx)\n",
    "    draw_y = np.cumsum(dy)\n",
    "\n",
    "    draw_x, draw_y = pymedphys.labs.winstonlutz.interppoints.apply_transform(draw_x, draw_y, transform)\n",
    "    \n",
    "    return draw_x, draw_y"
   ]
  },
  {
   "cell_type": "code",
   "execution_count": null,
   "metadata": {},
   "outputs": [],
   "source": [
    "transform = matplotlib.transforms.Affine2D()\n",
    "transform.rotate_deg(-rotation)\n",
    "transform.translate(*centre)"
   ]
  },
  {
   "cell_type": "code",
   "execution_count": null,
   "metadata": {},
   "outputs": [],
   "source": [
    "rotation_x_points = np.linspace(-edge_lengths[0]/2, edge_lengths[0]/2, 51)\n",
    "rotation_y_points = np.linspace(-edge_lengths[1]/2, edge_lengths[1]/2, 61)\n",
    "\n",
    "rot_xx_points, rot_yy_points = np.meshgrid(rotation_x_points, rotation_y_points)\n",
    "\n",
    "rot_xx_points, rot_yy_points = pymedphys.labs.winstonlutz.interppoints.apply_transform(rot_xx_points, rot_yy_points, transform)"
   ]
  },
  {
   "cell_type": "code",
   "execution_count": null,
   "metadata": {},
   "outputs": [],
   "source": [
    "rotation_points = pymedphys.labs.winstonlutz.interppoints.define_rotation_field_points(centre, [20, 20], 2, rotation)"
   ]
  },
  {
   "cell_type": "code",
   "execution_count": null,
   "metadata": {},
   "outputs": [],
   "source": [
    "rect_dx = [-edge_lengths[0]/2, 0, edge_lengths[0], 0, -edge_lengths[0]]\n",
    "rect_dy = [-edge_lengths[1]/2, edge_lengths[1], 0, -edge_lengths[1], 0]\n",
    "\n",
    "rect_crosshair_dx = [-edge_lengths[0]/2, edge_lengths[0], -edge_lengths[0], edge_lengths[0]]\n",
    "rect_crosshair_dy = [-edge_lengths[1]/2, edge_lengths[1], 0, -edge_lengths[1]]\n",
    "\n",
    "plt.figure(figsize=(10,10))\n",
    "plt.pcolormesh(x, y, img)\n",
    "plt.plot(*draw_by_diff(rect_dx, rect_dy, transform), 'k', lw=2)\n",
    "plt.plot(*draw_by_diff(rect_crosshair_dx, rect_crosshair_dy, transform), 'k', lw=0.5)\n",
    "\n",
    "plt.scatter(centre[0], centre[1], c='r', s=1)\n",
    "\n",
    "plt.scatter(rotation_points[0], rotation_points[1], s=1)\n",
    "\n",
    "plt.axis('equal')\n",
    "plt.xlim([-20, 20])\n",
    "plt.ylim([-20, 20])"
   ]
  },
  {
   "cell_type": "code",
   "execution_count": null,
   "metadata": {},
   "outputs": [],
   "source": []
  },
  {
   "cell_type": "code",
   "execution_count": null,
   "metadata": {},
   "outputs": [],
   "source": [
    "def create_points_to_check(ball_bearing_diameter):\n",
    "    min_dist = 0.5\n",
    "    diameters = np.arange(0, ball_bearing_diameter * 1.2, min_dist)\n",
    "\n",
    "    def points_to_check(bb_centre):\n",
    "        x = []\n",
    "        y = []\n",
    "        for i, diameter in enumerate(diameters):\n",
    "            new_x, new_y = pymedphys._gamma.implementation.shell.calculate_coordinates_shell_2d(diameter, min_dist)\n",
    "            x.append(new_x + bb_centre[0])\n",
    "            y.append(new_y + bb_centre[1])\n",
    "        \n",
    "        x = np.concatenate(x)\n",
    "        y = np.concatenate(y)\n",
    "        \n",
    "        return x, y\n",
    "    \n",
    "    return points_to_check\n",
    "\n",
    "\n",
    "points_to_check = create_points_to_check(8)\n",
    "# points_to_check([1.46, -1.9])\n",
    "plt.scatter(*points_to_check([1.46, -1.9]), s=3)\n",
    "plt.axis('equal')"
   ]
  },
  {
   "cell_type": "code",
   "execution_count": null,
   "metadata": {},
   "outputs": [],
   "source": [
    "def create_bb_to_minimise(field, ball_bearing_diameter):\n",
    "    \n",
    "    points_to_check = create_points_to_check(ball_bearing_diameter)\n",
    "    \n",
    "    def to_minimise(centre):\n",
    "        "
   ]
  },
  {
   "cell_type": "code",
   "execution_count": null,
   "metadata": {},
   "outputs": [],
   "source": [
    "plt.scatter(*pymedphys._gamma.implementation.shell.calculate_coordinates_shell_2d(3, 0.1), s=3)"
   ]
  },
  {
   "cell_type": "code",
   "execution_count": null,
   "metadata": {},
   "outputs": [],
   "source": []
  },
  {
   "cell_type": "code",
   "execution_count": null,
   "metadata": {},
   "outputs": [],
   "source": []
  },
  {
   "cell_type": "code",
   "execution_count": null,
   "metadata": {},
   "outputs": [],
   "source": []
  }
 ],
 "metadata": {
  "kernelspec": {
   "display_name": "pymedphys-master",
   "language": "python",
   "name": "pymedphys-master"
  },
  "language_info": {
   "codemirror_mode": {
    "name": "ipython",
    "version": 3
   },
   "file_extension": ".py",
   "mimetype": "text/x-python",
   "name": "python",
   "nbconvert_exporter": "python",
   "pygments_lexer": "ipython3",
   "version": "3.7.0"
  }
 },
 "nbformat": 4,
 "nbformat_minor": 4
}
