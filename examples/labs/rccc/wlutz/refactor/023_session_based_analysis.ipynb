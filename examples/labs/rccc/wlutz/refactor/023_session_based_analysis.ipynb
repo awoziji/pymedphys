{
 "cells": [
  {
   "cell_type": "code",
   "execution_count": null,
   "metadata": {},
   "outputs": [],
   "source": [
    "%load_ext autoreload\n",
    "%autoreload 2"
   ]
  },
  {
   "cell_type": "code",
   "execution_count": null,
   "metadata": {},
   "outputs": [],
   "source": [
    "import pathlib\n",
    "import json\n",
    "\n",
    "import IPython.display\n",
    "\n",
    "import numpy as np\n",
    "import pandas as pd\n",
    "import matplotlib.pyplot as plt\n",
    "\n",
    "import scipy.interpolate\n",
    "import scipy.signal\n",
    "\n",
    "import pymedphys\n",
    "import pymedphys.labs.winstonlutz.pylinac\n",
    "import pymedphys.labs.winstonlutz.iview\n",
    "import pymedphys.labs.winstonlutz.imginterp\n",
    "import pymedphys.labs.winstonlutz.findfield\n",
    "import pymedphys.labs.winstonlutz.findbb\n",
    "import pymedphys.labs.winstonlutz.reporting"
   ]
  },
  {
   "cell_type": "code",
   "execution_count": null,
   "metadata": {},
   "outputs": [],
   "source": [
    "penumbra = 2\n",
    "edge_lengths = [20, 24]\n",
    "initial_rotation = 0\n",
    "bb_diameter = 8\n",
    "\n",
    "pd.set_option(\"display.max_rows\", 101)"
   ]
  },
  {
   "cell_type": "code",
   "execution_count": null,
   "metadata": {},
   "outputs": [],
   "source": [
    "frame_paths_list = pymedphys.zip_data_paths(\"wlutz_arc_session.zip\", check_hashes=False)\n",
    "\n",
    "frame = [path.stem.split('_')[1] for path in frame_paths_list]\n",
    "timestamps = [path.parent.stem for path in frame_paths_list]\n",
    "directions = [path.parent.parent.stem for path in frame_paths_list]\n",
    "beams = [path.parent.parent.parent.stem for path in frame_paths_list]\n",
    "\n",
    "keys = list(zip(beams, directions, timestamps, frame))\n",
    "\n",
    "image_paths = {\n",
    "    key: path for key, path in zip(keys, frame_paths_list)\n",
    "}"
   ]
  },
  {
   "cell_type": "code",
   "execution_count": null,
   "metadata": {},
   "outputs": [],
   "source": [
    "key_map = {\n",
    "    key: '-'.join(key) for key in keys\n",
    "}\n",
    "\n",
    "inv_key_map = {\n",
    "    item: key for key, item in key_map.items()\n",
    "}"
   ]
  },
  {
   "cell_type": "code",
   "execution_count": null,
   "metadata": {},
   "outputs": [],
   "source": [
    "with open('session_cache.json', 'r') as a_file:\n",
    "    data_string_keys = json.load(a_file)\n",
    "\n",
    "data = {\n",
    "    inv_key_map[key]: item for key, item in data_string_keys.items()\n",
    "}"
   ]
  },
  {
   "cell_type": "code",
   "execution_count": null,
   "metadata": {},
   "outputs": [],
   "source": [
    "movie_keys = list({\n",
    "    key[0:3] for key in keys\n",
    "})\n",
    "movie_data_dicts = {\n",
    "    movie_key: {\n",
    "        int(key[3]): item for key, item in data.items()\n",
    "        if key[0:3] == movie_key\n",
    "    }\n",
    "    for movie_key in movie_keys\n",
    "}\n",
    "\n",
    "movie_data_dicts[movie_keys[0]]"
   ]
  },
  {
   "cell_type": "code",
   "execution_count": null,
   "metadata": {},
   "outputs": [],
   "source": [
    "movie_data = {\n",
    "    movie_key: [item[frame_key] for frame_key in sorted(item.keys())]\n",
    "    for movie_key, item in movie_data_dicts.items()\n",
    "}\n",
    "\n",
    "# movie_data"
   ]
  },
  {
   "cell_type": "code",
   "execution_count": null,
   "metadata": {},
   "outputs": [],
   "source": [
    "movie_keys"
   ]
  },
  {
   "cell_type": "code",
   "execution_count": null,
   "metadata": {},
   "outputs": [],
   "source": []
  },
  {
   "cell_type": "code",
   "execution_count": null,
   "metadata": {},
   "outputs": [],
   "source": [
    "def extract_data(keys, data, lookup_func):\n",
    "    result = {}\n",
    "\n",
    "    for key in keys:\n",
    "        result[key] = []\n",
    "        for item in data[key]:\n",
    "            try:\n",
    "                result[key].append(lookup_func(item))\n",
    "            except KeyError:\n",
    "                result[key].append(np.nan)\n",
    "\n",
    "        result[key] = np.array(result[key])\n",
    "        \n",
    "    return result\n"
   ]
  },
  {
   "cell_type": "code",
   "execution_count": null,
   "metadata": {},
   "outputs": [],
   "source": []
  },
  {
   "cell_type": "code",
   "execution_count": null,
   "metadata": {},
   "outputs": [],
   "source": [
    "pymedphys_field_rotations = extract_data(movie_keys, movie_data, lambda x: x['pymedphys']['field_rotation'])"
   ]
  },
  {
   "cell_type": "code",
   "execution_count": null,
   "metadata": {},
   "outputs": [],
   "source": [
    "pymedphys_field_rotations"
   ]
  },
  {
   "cell_type": "code",
   "execution_count": null,
   "metadata": {},
   "outputs": [],
   "source": [
    "# pymedphys_field_rotations = {}\n",
    "\n",
    "# for key in movie_keys:\n",
    "#     pymedphys_field_rotations[key] = []\n",
    "#     for item in movie_data[key]:\n",
    "#         try:\n",
    "#             pymedphys_field_rotations[key].append(item['pymedphys']['field_rotation'])\n",
    "#         except KeyError:\n",
    "#             pass\n",
    "        \n",
    "#     pymedphys_field_rotations[key] = np.array(rotations[key])"
   ]
  },
  {
   "cell_type": "code",
   "execution_count": null,
   "metadata": {},
   "outputs": [],
   "source": [
    "def determine_gantry_angle(direction_key, rotation):\n",
    "    not_nan = np.invert(np.isnan(rotation))\n",
    "    nan_removed_rotation = rotation[not_nan]\n",
    "    \n",
    "    if direction_key == 'clockwise':\n",
    "        diff = np.diff(np.concatenate([[-180], nan_removed_rotation]))\n",
    "        diff[diff > 0] = diff[diff > 0] - 180\n",
    "\n",
    "        gantry = -180 - np.cumsum(diff * 2)\n",
    "    elif direction_key == 'counter-clockwise':\n",
    "        diff = np.diff(np.concatenate([[0], nan_removed_rotation]))\n",
    "        diff[diff < 0] = diff[diff < 0] + 180\n",
    "\n",
    "        gantry = 180 - np.cumsum(diff * 2)\n",
    "    else:\n",
    "        raise ValueError(\"Expected one of 'clockwise' or 'counter-clockwise'\")\n",
    "        \n",
    "    gantry_with_nans = np.ones_like(rotation) * np.nan\n",
    "    out_of_bounds = np.logical_or(gantry < -180, gantry > 180)\n",
    "    gantry[out_of_bounds] = np.nan\n",
    "    gantry_with_nans[not_nan] = gantry\n",
    "        \n",
    "    return gantry_with_nans"
   ]
  },
  {
   "cell_type": "code",
   "execution_count": null,
   "metadata": {},
   "outputs": [],
   "source": [
    "movie_keys[2]"
   ]
  },
  {
   "cell_type": "code",
   "execution_count": null,
   "metadata": {},
   "outputs": [],
   "source": [
    "pymedphys_field_rotations[movie_keys[2]]"
   ]
  },
  {
   "cell_type": "code",
   "execution_count": null,
   "metadata": {},
   "outputs": [],
   "source": [
    "gantry_angles = {}\n",
    "\n",
    "for key in movie_keys:\n",
    "    direction_key = key[1]\n",
    "    rotation = pymedphys_field_rotations[key]\n",
    "    \n",
    "    gantry_angles[key] = determine_gantry_angle(direction_key, rotation)\n",
    "    \n",
    "gantry_angles"
   ]
  },
  {
   "cell_type": "code",
   "execution_count": null,
   "metadata": {},
   "outputs": [],
   "source": [
    "columns=[\n",
    "    'gantry_angle', 'field_x', 'field_y', 'bb_x', 'bb_y'\n",
    "]"
   ]
  },
  {
   "cell_type": "code",
   "execution_count": null,
   "metadata": {},
   "outputs": [],
   "source": [
    "prep_for_dataframe = [\n",
    "    gantry_angles,\n",
    "    extract_data(movie_keys, movie_data, lambda x: x['pymedphys']['field_centre'][0]),\n",
    "    extract_data(movie_keys, movie_data, lambda x: x['pymedphys']['field_centre'][1]),\n",
    "    extract_data(movie_keys, movie_data, lambda x: x['pymedphys']['bb_centre'][0]),\n",
    "    extract_data(movie_keys, movie_data, lambda x: x['pymedphys']['bb_centre'][1]),\n",
    "]"
   ]
  },
  {
   "cell_type": "code",
   "execution_count": null,
   "metadata": {},
   "outputs": [],
   "source": [
    "dataframes = {}\n",
    "\n",
    "for key in movie_keys:\n",
    "    dataframe = pd.DataFrame(\n",
    "        columns=columns,\n",
    "        data=np.vstack([\n",
    "            item[key] for item in prep_for_dataframe\n",
    "        ]).T\n",
    "    )\n",
    "    \n",
    "    dataframes[key] = dataframe"
   ]
  },
  {
   "cell_type": "code",
   "execution_count": null,
   "metadata": {},
   "outputs": [],
   "source": [
    "for key in movie_keys:\n",
    "    print(key)\n",
    "    IPython.display.display(dataframes[key])"
   ]
  },
  {
   "cell_type": "code",
   "execution_count": null,
   "metadata": {},
   "outputs": [],
   "source": [
    "bb_x = [\n",
    "    dataframes[key]['bb_x'] for key in movie_keys\n",
    "]\n",
    "bb_y = [\n",
    "    dataframes[key]['bb_y'] for key in movie_keys\n",
    "]\n",
    "gantry = [\n",
    "    gantry_angles[key] for key in movie_keys\n",
    "]"
   ]
  },
  {
   "cell_type": "code",
   "execution_count": null,
   "metadata": {},
   "outputs": [],
   "source": [
    "interp_bb_x = [\n",
    "    scipy.interpolate.interp1d(g, x, bounds_error=False, fill_value='extrapolate')\n",
    "    for g, x in zip(gantry, bb_x)\n",
    "]\n",
    "\n",
    "def get_avg_bb_x(gantry):\n",
    "    results = []\n",
    "    \n",
    "    for interp in interp_bb_x:\n",
    "        results.append(interp(gantry))\n",
    "        \n",
    "    return (np.nanmin(results, axis=0) + np.nanmax(results, axis=0))/2\n",
    "\n",
    "\n",
    "interp_bb_y = [\n",
    "    scipy.interpolate.interp1d(g, y, bounds_error=False, fill_value='extrapolate')\n",
    "    for g, y in zip(gantry, bb_y)\n",
    "]\n",
    "\n",
    "def get_avg_bb_y(gantry):\n",
    "    results = []\n",
    "    \n",
    "    for interp in interp_bb_y:\n",
    "        results.append(interp(gantry))\n",
    "    \n",
    "    return (np.nanmin(results, axis=0) + np.nanmax(results, axis=0))/2\n",
    "\n",
    "get_avg_bb_y([0, 2])"
   ]
  },
  {
   "cell_type": "code",
   "execution_count": null,
   "metadata": {},
   "outputs": [],
   "source": [
    "gantry_i = np.linspace(-180, 180, 91)"
   ]
  },
  {
   "cell_type": "code",
   "execution_count": null,
   "metadata": {},
   "outputs": [],
   "source": [
    "for g, x in zip(gantry, bb_x):\n",
    "    plt.plot(g, x, alpha=0.5)\n",
    "    \n",
    "plt.plot(gantry_i, get_avg_bb_x(gantry_i), 'k')"
   ]
  },
  {
   "cell_type": "code",
   "execution_count": null,
   "metadata": {},
   "outputs": [],
   "source": [
    "for g, y in zip(gantry, bb_y):\n",
    "    plt.plot(g, y, alpha=0.5)\n",
    "    \n",
    "plt.plot(gantry_i, get_avg_bb_y(gantry_i), 'k')"
   ]
  },
  {
   "cell_type": "code",
   "execution_count": null,
   "metadata": {},
   "outputs": [],
   "source": [
    "for key in movie_keys:\n",
    "    bb_x = dataframes[key]['bb_x']\n",
    "    bb_y = dataframes[key]['bb_y']\n",
    "    gantry = dataframes[key]['gantry_angle']\n",
    "    \n",
    "    isnan = np.isnan(bb_x)\n",
    "    assert np.all(isnan == np.isnan(bb_y))\n",
    "    \n",
    "    bb_x[isnan] = get_avg_bb_x(gantry[isnan])\n",
    "    bb_y[isnan] = get_avg_bb_y(gantry[isnan])\n",
    "    \n",
    "    dataframes[key]['bb_x'] = bb_x\n",
    "    dataframes[key]['bb_y'] = bb_y"
   ]
  },
  {
   "cell_type": "code",
   "execution_count": null,
   "metadata": {},
   "outputs": [],
   "source": [
    "for key in movie_keys:\n",
    "    print(key)\n",
    "    IPython.display.display(dataframes[key])"
   ]
  },
  {
   "cell_type": "code",
   "execution_count": null,
   "metadata": {},
   "outputs": [],
   "source": [
    "analysis_dataframes = {}\n",
    "\n",
    "for key in movie_keys:\n",
    "    print(key)\n",
    "    analysis_dataframe = pd.DataFrame(\n",
    "        columns=['Gantry Angle', 'Field - BB x', 'Field - BB y'],\n",
    "        data=np.vstack([\n",
    "            dataframes[key]['gantry_angle'], \n",
    "            dataframes[key]['field_x'] - dataframes[key]['bb_x'],\n",
    "            dataframes[key]['field_y'] - dataframes[key]['bb_y']\n",
    "        ]).T\n",
    "    )\n",
    "    \n",
    "    IPython.display.display(analysis_dataframe)\n",
    "    \n",
    "    analysis_dataframes[key] = analysis_dataframe"
   ]
  },
  {
   "cell_type": "code",
   "execution_count": null,
   "metadata": {},
   "outputs": [],
   "source": [
    "plt.figure(figsize=(12,10))\n",
    "\n",
    "for key in movie_keys:\n",
    "    plt.plot(analysis_dataframes[key]['Gantry Angle'], analysis_dataframes[key]['Field - BB x'], label=key[0:2])\n",
    "    \n",
    "plt.legend()"
   ]
  },
  {
   "cell_type": "code",
   "execution_count": null,
   "metadata": {},
   "outputs": [],
   "source": [
    "plt.figure(figsize=(12,10))\n",
    "\n",
    "for key in movie_keys:\n",
    "    plt.plot(analysis_dataframes[key]['Gantry Angle'], analysis_dataframes[key]['Field - BB y'], label=key[0:2])\n",
    "    \n",
    "plt.legend()"
   ]
  },
  {
   "cell_type": "code",
   "execution_count": null,
   "metadata": {},
   "outputs": [],
   "source": [
    "def plot_enery_axis(energy, axis):\n",
    "    plt.figure(figsize=(12,10))\n",
    "\n",
    "    for key in movie_keys:\n",
    "        if key[0] == energy:\n",
    "            if key[1] == 'clockwise':\n",
    "                prop = '-'\n",
    "            else:\n",
    "                prop = '--'\n",
    "\n",
    "            plt.plot(\n",
    "                analysis_dataframes[key]['Gantry Angle'], \n",
    "                analysis_dataframes[key][f'Field - BB {axis}'], \n",
    "                prop, label=key[0:2], alpha=0.5)\n",
    "            \n",
    "    x = np.linspace(-180, 180)\n",
    "\n",
    "    if axis == 'y':\n",
    "        plt.plot(x, 0.6*np.cos(x*np.pi/180), 'k', label='\"Ideal\"')\n",
    "    elif axis == 'x':\n",
    "        plt.plot(x, np.zeros_like(x), 'k', label='\"Ideal\"')\n",
    "\n",
    "    plt.legend()"
   ]
  },
  {
   "cell_type": "code",
   "execution_count": null,
   "metadata": {},
   "outputs": [],
   "source": [
    "plot_enery_axis('06MV', 'x')"
   ]
  },
  {
   "cell_type": "code",
   "execution_count": null,
   "metadata": {},
   "outputs": [],
   "source": [
    "plot_enery_axis('06MV', 'y')"
   ]
  },
  {
   "cell_type": "code",
   "execution_count": null,
   "metadata": {},
   "outputs": [],
   "source": [
    "plot_enery_axis('10MV', 'x')"
   ]
  },
  {
   "cell_type": "code",
   "execution_count": null,
   "metadata": {},
   "outputs": [],
   "source": [
    "plot_enery_axis('10MV', 'y')"
   ]
  },
  {
   "cell_type": "code",
   "execution_count": null,
   "metadata": {},
   "outputs": [],
   "source": [
    "plot_enery_axis('06FFF', 'x')"
   ]
  },
  {
   "cell_type": "code",
   "execution_count": null,
   "metadata": {},
   "outputs": [],
   "source": [
    "plot_enery_axis('06FFF', 'y')"
   ]
  },
  {
   "cell_type": "code",
   "execution_count": null,
   "metadata": {},
   "outputs": [],
   "source": [
    "plot_enery_axis('10FFF', 'x')"
   ]
  },
  {
   "cell_type": "code",
   "execution_count": null,
   "metadata": {},
   "outputs": [],
   "source": [
    "plot_enery_axis('10FFF', 'y')"
   ]
  }
 ],
 "metadata": {
  "kernelspec": {
   "display_name": "pymedphys-master",
   "language": "python",
   "name": "pymedphys-master"
  },
  "language_info": {
   "codemirror_mode": {
    "name": "ipython",
    "version": 3
   },
   "file_extension": ".py",
   "mimetype": "text/x-python",
   "name": "python",
   "nbconvert_exporter": "python",
   "pygments_lexer": "ipython3",
   "version": "3.7.5"
  }
 },
 "nbformat": 4,
 "nbformat_minor": 4
}
