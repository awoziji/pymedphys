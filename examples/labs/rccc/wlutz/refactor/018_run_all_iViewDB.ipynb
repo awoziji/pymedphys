{
 "cells": [
  {
   "cell_type": "code",
   "execution_count": null,
   "metadata": {},
   "outputs": [],
   "source": [
    "%load_ext autoreload\n",
    "%autoreload 2"
   ]
  },
  {
   "cell_type": "code",
   "execution_count": null,
   "metadata": {},
   "outputs": [],
   "source": [
    "import pathlib\n",
    "\n",
    "import IPython.display\n",
    "\n",
    "import numpy as np\n",
    "import pandas as pd\n",
    "import matplotlib.pyplot as plt\n",
    "\n",
    "import pymedphys\n",
    "import pymedphys.labs.winstonlutz.iview"
   ]
  },
  {
   "cell_type": "code",
   "execution_count": null,
   "metadata": {},
   "outputs": [],
   "source": [
    "indexed_dir = pathlib.Path(r'S:\\DataExchange\\iViewDB_decoded\\indexed')\n",
    "movie_dirs = list(indexed_dir.glob('*/*/*/*/*'))\n",
    "movie_dirs"
   ]
  },
  {
   "cell_type": "code",
   "execution_count": null,
   "metadata": {},
   "outputs": [],
   "source": [
    "wlutz_results = {}"
   ]
  },
  {
   "cell_type": "code",
   "execution_count": null,
   "metadata": {},
   "outputs": [],
   "source": [
    "edge_lengths = [20, 24]\n",
    "pd.set_option(\"display.max_rows\", 101)"
   ]
  },
  {
   "cell_type": "code",
   "execution_count": null,
   "metadata": {},
   "outputs": [],
   "source": [
    "for directory in movie_dirs:\n",
    "    image_paths = list(directory.glob('*.png'))\n",
    "    print(image_paths)\n",
    "    wlutz_results[directory] = pymedphys.labs.winstonlutz.iview.batch_process(image_paths, edge_lengths, display_figure=True)\n",
    "    \n",
    "    IPython.display.display(wlutz_results[directory])"
   ]
  },
  {
   "cell_type": "code",
   "execution_count": null,
   "metadata": {
    "jupyter": {
     "outputs_hidden": true
    }
   },
   "outputs": [],
   "source": [
    "for directory in movie_dirs:\n",
    "    try:\n",
    "        wlutz_results[directory]\n",
    "    except KeyError:\n",
    "        image_paths = list(directory.glob('*.png'))\n",
    "        print(image_paths)\n",
    "        \n",
    "        try:\n",
    "            wlutz_results[directory] = pymedphys.labs.winstonlutz.iview.batch_process(image_paths, edge_lengths, display_figure=True)\n",
    "            IPython.display.display(wlutz_results[directory])\n",
    "        except ValueError:\n",
    "            continue"
   ]
  },
  {
   "cell_type": "code",
   "execution_count": null,
   "metadata": {},
   "outputs": [],
   "source": [
    "for directory in movie_dirs:\n",
    "    try:\n",
    "        wlutz_results[directory]\n",
    "    except KeyError:\n",
    "        image_paths = list(directory.glob('*.png'))\n",
    "        print(image_paths)\n",
    "        \n",
    "        try:\n",
    "            wlutz_results[directory] = pymedphys.labs.winstonlutz.iview.batch_process(image_paths, edge_lengths, display_figure=True)\n",
    "            IPython.display.display(wlutz_results[directory])\n",
    "        except ValueError:\n",
    "            continue"
   ]
  },
  {
   "cell_type": "code",
   "execution_count": null,
   "metadata": {},
   "outputs": [],
   "source": [
    "for directory in movie_dirs:\n",
    "    try:\n",
    "        wlutz_results[directory]\n",
    "    except KeyError:\n",
    "        image_paths = list(directory.glob('*.png'))\n",
    "        print(image_paths)\n",
    "        \n",
    "        try:\n",
    "            wlutz_results[directory] = pymedphys.labs.winstonlutz.iview.batch_process(image_paths, edge_lengths, display_figure=True)\n",
    "            IPython.display.display(wlutz_results[directory])\n",
    "        except ValueError:\n",
    "            continue"
   ]
  },
  {
   "cell_type": "code",
   "execution_count": null,
   "metadata": {},
   "outputs": [],
   "source": [
    "for key, table in wlutz_results.items():\n",
    "    print(key)\n",
    "    IPython.display.display(table)"
   ]
  }
 ],
 "metadata": {
  "kernelspec": {
   "display_name": "pymedphys-master",
   "language": "python",
   "name": "pymedphys-master"
  },
  "language_info": {
   "codemirror_mode": {
    "name": "ipython",
    "version": 3
   },
   "file_extension": ".py",
   "mimetype": "text/x-python",
   "name": "python",
   "nbconvert_exporter": "python",
   "pygments_lexer": "ipython3",
   "version": "3.7.0"
  }
 },
 "nbformat": 4,
 "nbformat_minor": 4
}
