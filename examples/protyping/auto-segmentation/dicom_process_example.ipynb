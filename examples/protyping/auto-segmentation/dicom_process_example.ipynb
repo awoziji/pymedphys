{
 "cells": [
  {
   "cell_type": "code",
   "execution_count": null,
   "metadata": {},
   "outputs": [],
   "source": [
    "#How to structure data for script\n",
    "\n",
    "#.\n",
    "#└── DATA_PATH\n",
    "#    ├── FOLDER1\n",
    "#    │   ├── CT_FILE_1.dcm\n",
    "#    │   ├── CT_FILE_2.dcm\n",
    "#         ......\n",
    "#    │   ├── RP_FILE.dcm\n",
    "#    │   └── RS_FILE.dcm\n",
    "#    ├── FOLDER2\n",
    "#    │   ├── CT_FILE_1.dcm\n",
    "#         ...... etc"
   ]
  },
  {
   "cell_type": "code",
   "execution_count": null,
   "metadata": {},
   "outputs": [],
   "source": [
    "import importlib\n",
    "\n",
    "import numpy as np\n",
    "\n",
    "import matplotlib.pyplot as plt\n",
    "\n",
    "import skimage.transform\n",
    "\n",
    "import skimage.draw\n",
    "\n",
    "import dicom_process\n",
    "\n",
    "import helpers\n",
    "\n",
    "importlib.reload(dicom_process)\n",
    "importlib.reload(helpers)\n",
    "\n",
    "plt.rcParams['figure.figsize'] = [6, 6]"
   ]
  },
  {
   "cell_type": "markdown",
   "metadata": {},
   "source": [
    "# Choose case:"
   ]
  },
  {
   "cell_type": "code",
   "execution_count": null,
   "metadata": {},
   "outputs": [],
   "source": [
    "# Vet case\n",
    "DATA_PATH = \"/home/matthew/proj/masters-project/pymedphys-segmentation/open_datasets/VET_DATASET_CLEAN/\"\n",
    "# Structure masks to be pulled\n",
    "STRUCTURE_NAMES = [\"patient\", \"Vacbag\", \"vacbag\", \"Couch Foam Half Couch\", \"Couch Outer Half Couch\", \"Couch Edge\"]"
   ]
  },
  {
   "cell_type": "code",
   "execution_count": null,
   "metadata": {},
   "outputs": [],
   "source": [
    "# Prostate case\n",
    "#DATA_PATH = \"/home/matthew/priv/PROSTATE_TEST/\"\n",
    "# Structure masks to be pulled\n",
    "#STRUCTURE_NAMES = [\"patient\", \"RT HOF\", \"LT HOF\", \"BLADDER\", \"RECTUM\", \"Couch Foam Half Couch\", \"Couch Outer Half Couch\", \"Couch Edge\"]"
   ]
  },
  {
   "cell_type": "code",
   "execution_count": null,
   "metadata": {},
   "outputs": [],
   "source": [
    "# Resize images\n",
    "SIZE = 64, 64\n",
    "# Number of additional context image slices for each (image, label) input\n",
    "# ie. input_instance = image +- CONTEXT neighbouring images\n",
    "CONTEXT = 10"
   ]
  },
  {
   "cell_type": "markdown",
   "metadata": {},
   "source": [
    "# For viewing:"
   ]
  },
  {
   "cell_type": "code",
   "execution_count": null,
   "metadata": {},
   "outputs": [],
   "source": [
    "# Choose a patient folder from data_folders\n",
    "FOLDER_INDEX = 0\n",
    "# Choose a z slice index\n",
    "SLICE_INDEX = 100"
   ]
  },
  {
   "cell_type": "markdown",
   "metadata": {},
   "source": [
    "# Automated data processing overview:\n",
    "### NOTE: See # LIMIT TO ONLY SOME FOLDERS TO MAKE EXAMPLE QUICKER (below)\n",
    "\n",
    "#### [ ] TODO: Have not added cleaning structures (via STRUCTURE_NAMES) to automated process - only manual (below automated)\n",
    "#### [ ] TODO: Only returns one structure but an easy fix by appending\n",
    "#### [ ] TODO Account for fact that multiple ROIs per xyz index\n",
    "#### [ ] TODO: Save data for each case when building trainning data as does not all will fit in memory\n",
    "#### NOTE: These TODOs are outlined in the manual section (below)\n",
    "\n"
   ]
  },
  {
   "cell_type": "code",
   "execution_count": null,
   "metadata": {},
   "outputs": [],
   "source": [
    "data_folders = dicom_process.list_files(DATA_PATH, None)\n",
    "\n",
    "# LIMIT TO ONLY SOME FOLDERS TO MAKE EXAMPLE QUICKER\n",
    "data_folders = data_folders[0:1]\n",
    "\n",
    "loaded_data = []\n",
    "\n",
    "for index, folder in enumerate(data_folders):\n",
    "    print(f\"----------------\")\n",
    "    print(f\"LOADING: {index+1}/{len(data_folders)}\")\n",
    "    print(f\"{folder}\")\n",
    "    try:\n",
    "        images, labels, colors, structures = dicom_process.get_input_data(folder, SIZE, CONTEXT)\n",
    "    except IndexError:\n",
    "        print(f\"WARNING: IndexError\")\n",
    "        pass\n",
    "    \n",
    "    # probably want to get context and the save each (input_instance, label) \n",
    "    # set in folder as total data in all folders in data_folders is too large for memerory\n",
    "    loaded_data.append([images, labels, colors, structures])\n",
    "        \n",
    "print(f\"================\")\n",
    "print(f\"LOADING COMPLETE\")"
   ]
  },
  {
   "cell_type": "code",
   "execution_count": null,
   "metadata": {},
   "outputs": [],
   "source": [
    "print(f\"Folder: {data_folders[FOLDER_INDEX]}\")\n",
    "images, labels, *rest = loaded_data[FOLDER_INDEX]\n",
    "helpers.plot_model_data(images, labels, index=SLICE_INDEX, slices=9, corners=False)"
   ]
  },
  {
   "cell_type": "code",
   "execution_count": null,
   "metadata": {},
   "outputs": [],
   "source": [
    "# so far this only contains one label - need to rework so adds all - TODO above\n",
    "print(len(labels))\n",
    "print(labels.shape)"
   ]
  },
  {
   "cell_type": "markdown",
   "metadata": {},
   "source": [
    "## Lets examine the structure labels in our data"
   ]
  },
  {
   "cell_type": "code",
   "execution_count": null,
   "metadata": {},
   "outputs": [],
   "source": [
    "for index, data in enumerate(loaded_data):\n",
    "    structures = data[3]\n",
    "    print(data_folders[index])\n",
    "    helpers.print_structures(structures)\n",
    "    print(\"----------------------------\")\n",
    "    "
   ]
  },
  {
   "cell_type": "markdown",
   "metadata": {},
   "source": [
    "--------------------------------------------\n",
    "<br><br><br><br><br><br><br><br><br><br><br><br><br><br><br><br>"
   ]
  },
  {
   "cell_type": "markdown",
   "metadata": {},
   "source": [
    "# Manual data processing overview"
   ]
  },
  {
   "cell_type": "code",
   "execution_count": null,
   "metadata": {},
   "outputs": [],
   "source": [
    "# Load for a single folder in data_folder - FOLDER_INDEX\n",
    "\n",
    "folder = dicom_process.list_files(DATA_PATH, None)[FOLDER_INDEX]\n",
    "\n",
    "file_names = dicom_process.list_files(folder, \".dcm\")\n",
    "\n",
    "dicom_files = dicom_process.read_dicom_files(file_names)\n",
    "dicom_series, dicom_structures, *rest = dicom_process.filter_dicom_files(dicom_files)\n",
    "dicom_series = dicom_process.add_transfer_syntax(dicom_series)\n",
    "dicom_series.sort(key=lambda x: float(x.ImagePositionPatient[2]))"
   ]
  },
  {
   "cell_type": "markdown",
   "metadata": {},
   "source": [
    "## Some basic data to examine"
   ]
  },
  {
   "cell_type": "code",
   "execution_count": null,
   "metadata": {},
   "outputs": [],
   "source": [
    "helpers.print_dicom_slice_data(dicom_series[0])\n",
    "# np.uint16 - Unsigned integer (0 to 65535)"
   ]
  },
  {
   "cell_type": "code",
   "execution_count": null,
   "metadata": {},
   "outputs": [],
   "source": [
    "z_slice_locations = np.array([dicom.ImagePositionPatient[2] for dicom in dicom_series])\n",
    "print(z_slice_locations)"
   ]
  },
  {
   "cell_type": "code",
   "execution_count": null,
   "metadata": {},
   "outputs": [],
   "source": [
    "# moving slice locations from patient space to pixel space (image space)\n",
    "((z_slice_locations - np.min(z_slice_locations)) / dicom_series[0].SliceThickness)"
   ]
  },
  {
   "cell_type": "markdown",
   "metadata": {},
   "source": [
    "## Images"
   ]
  },
  {
   "cell_type": "code",
   "execution_count": null,
   "metadata": {},
   "outputs": [],
   "source": [
    "images = dicom_process.get_pixel_array(dicom_series)"
   ]
  },
  {
   "cell_type": "code",
   "execution_count": null,
   "metadata": {},
   "outputs": [],
   "source": [
    "# View single image data\n",
    "helpers.plot_pixel_array(images[SLICE_INDEX])\n",
    "helpers.print_range(images)"
   ]
  },
  {
   "cell_type": "code",
   "execution_count": null,
   "metadata": {},
   "outputs": [],
   "source": [
    "# View single image data - resized\n",
    "images_resized = dicom_process.resize_pixel_array(images, SIZE)\n",
    "helpers.plot_pixel_array(images_resized[SLICE_INDEX])\n",
    "helpers.print_range(images_resized)"
   ]
  },
  {
   "cell_type": "code",
   "execution_count": null,
   "metadata": {},
   "outputs": [],
   "source": [
    "# View single image data - resized and normalised\n",
    "images_resized_normal = dicom_process.normalise_pixel_array_volume(images_resized)\n",
    "helpers.plot_pixel_array(images_resized_normal[SLICE_INDEX])\n",
    "helpers.print_range(images_resized_normal)"
   ]
  },
  {
   "cell_type": "markdown",
   "metadata": {},
   "source": [
    "## Structures"
   ]
  },
  {
   "cell_type": "code",
   "execution_count": null,
   "metadata": {},
   "outputs": [],
   "source": [
    "# Structures from a folder in data_folder\n",
    "# Note dicom_structures is returned as a like like dicom_series\n",
    "# to get the first RS dicom file found use the first index dicom_structures[0]\n",
    "structures = dicom_process.read_structures(dicom_structures[0])\n",
    "helpers.print_structures(structures)"
   ]
  },
  {
   "cell_type": "code",
   "execution_count": null,
   "metadata": {},
   "outputs": [],
   "source": [
    "# clean the structures\n",
    "structures = dicom_process.clean_structures(structures, STRUCTURE_NAMES)\n",
    "helpers.print_structures(structures)"
   ]
  },
  {
   "cell_type": "code",
   "execution_count": null,
   "metadata": {},
   "outputs": [],
   "source": [
    "# how my dicts work\n",
    "patient = structures[0]\n",
    "print(patient.keys())"
   ]
  },
  {
   "cell_type": "code",
   "execution_count": null,
   "metadata": {},
   "outputs": [],
   "source": [
    "# extracting contour points\n",
    "patient_xyz = patient['contour_points']\n",
    "z_slice_contour_data = patient_xyz[0]\n",
    "xyz_points = np.array(z_slice_contour_data).reshape((-1, 3))\n",
    "print(xyz_points[0:10])"
   ]
  },
  {
   "cell_type": "code",
   "execution_count": null,
   "metadata": {},
   "outputs": [],
   "source": [
    "labels = dicom_process.get_binary_masks(structures, dicom_series, images)"
   ]
  },
  {
   "cell_type": "code",
   "execution_count": null,
   "metadata": {},
   "outputs": [],
   "source": [
    "helpers.plot_model_data(images, labels, SLICE_INDEX)"
   ]
  },
  {
   "cell_type": "markdown",
   "metadata": {},
   "source": [
    "--------------------\n",
    "<br><br><br><br><br>\n",
    "# Below is code in progress"
   ]
  },
  {
   "cell_type": "markdown",
   "metadata": {},
   "source": [
    "\n",
    "#### [ ] TODO Mask that includes all labels\n",
    "#### [ ] TODO Account for fact that multiple ROIs per xyz index"
   ]
  },
  {
   "cell_type": "code",
   "execution_count": null,
   "metadata": {},
   "outputs": [],
   "source": [
    "def transform_to_array(x, y, dicom_series):\n",
    "    \"\"\"\n",
    "    Transform from patient space to pixel space\n",
    "    \"\"\"\n",
    "    translation = dicom_series[0].ImagePositionPatient\n",
    "    scale = dicom_series[0].PixelSpacing\n",
    "    orientation = dicom_series[0].ImageOrientationPatient\n",
    "    x = np.array(x)\n",
    "    y = np.array(y)\n",
    "\n",
    "    # NOTE Only handles +-1 cosines\n",
    "    # A more robust method that handles intermediate angels\n",
    "    # was attempted however the affine matrix was singular\n",
    "    # See: http://dicom.nema.org/medical/dicom/current/output/chtml/part03/sect_C.7.6.2.htmlx1\n",
    "    # See: https://dicomiseasy.blogspot.com/2013/06/getting-oriented-using-image-plane.html\n",
    "    r = (y - translation[1]) / scale[1] * orientation[4]\n",
    "    c = (x - translation[0]) / scale[0] * orientation[0]\n",
    "\n",
    "    return r, c"
   ]
  },
  {
   "cell_type": "code",
   "execution_count": null,
   "metadata": {},
   "outputs": [],
   "source": [
    "def get_binary_masks(structures, dicom_series):\n",
    "    for slice_index in range(len(dicom_series[:])):        \n",
    "        for structure in structures[:]:\n",
    "            xyz = structure['contour_points'][slice_index]\n",
    "           # r, c = dicom_process.transform_to_array(x, y, dicom_series)\n",
    "            #rr, cc = skimage.draw.polygon(r, c)\n",
    "    return None"
   ]
  },
  {
   "cell_type": "code",
   "execution_count": null,
   "metadata": {},
   "outputs": [],
   "source": [
    "get_binary_masks(structures, dicom_series)"
   ]
  },
  {
   "cell_type": "code",
   "execution_count": null,
   "metadata": {},
   "outputs": [],
   "source": [
    "for slice_index in range(len(dicom_series)):\n",
    "    print(slice_index, structures[1]['contour_points'][slice_index][2])"
   ]
  },
  {
   "cell_type": "code",
   "execution_count": null,
   "metadata": {},
   "outputs": [],
   "source": [
    "x = structures[1]['contour_points'][10][0::3]\n",
    "y = structures[1]['contour_points'][10][1::3]\n",
    "z = structures[1]['contour_points'][10][2::3]\n",
    "print(z[0])\n",
    "r, c = transform_to_array(x, y, dicom_series)\n",
    "img1 = np.zeros((512, 512), dtype=np.uint16)\n",
    "rr, cc = skimage.draw.polygon(r, c)\n",
    "img1[rr, cc] = 1\n",
    "plt.imshow(img1)"
   ]
  },
  {
   "cell_type": "code",
   "execution_count": null,
   "metadata": {},
   "outputs": [],
   "source": [
    "x = structures[1]['contour_points'][11][0::3]\n",
    "y = structures[1]['contour_points'][11][1::3]\n",
    "z = structures[1]['contour_points'][11][2::3]\n",
    "print(z[0])\n",
    "r, c = transform_to_array(x, y, dicom_series)\n",
    "img2 = np.zeros((512, 512), dtype=np.uint16)\n",
    "rr, cc = skimage.draw.polygon(r, c)\n",
    "img2[rr, cc] = 1"
   ]
  },
  {
   "cell_type": "code",
   "execution_count": null,
   "metadata": {},
   "outputs": [],
   "source": [
    "index = 85\n",
    "print(dicom_series[index].ImagePositionPatient[2])\n",
    "plt.imshow(images[index], cmap=\"gray\")\n",
    "plt.contour(img1, colors='red')\n",
    "plt.contour(img2, colors='blue')"
   ]
  },
  {
   "cell_type": "code",
   "execution_count": null,
   "metadata": {},
   "outputs": [],
   "source": [
    "labels = get_binary_masks(structures, dicom_series, images)\n",
    "print(labels.shape)\n",
    "helpers.plot_model_data(images, labels, SLICE_INDEX-10)"
   ]
  },
  {
   "cell_type": "markdown",
   "metadata": {},
   "source": [
    "--------------------\n",
    "#### [ ]  TODO Getting context and saving input instances to load later into model"
   ]
  },
  {
   "cell_type": "code",
   "execution_count": null,
   "metadata": {},
   "outputs": [],
   "source": [
    "def get_context(pixel_array_volume, index, context=10):\n",
    "    \"\"\"\n",
    "    # TODO write docstring\n",
    "    \"\"\"\n",
    "    return pixel_array_volume[index - context:index + context + 1]"
   ]
  },
  {
   "cell_type": "code",
   "execution_count": null,
   "metadata": {},
   "outputs": [],
   "source": [
    "OUTPUT_PATH = \"/home/matthew/proj/masters-project/pymedphys-segmentation/open_datasets/model_data/\"\n",
    "context = 10\n",
    "for index in range(len(images)):\n",
    "    temp = get_context(images, index, context)\n",
    "    # skip those that dont have enough padding\n",
    "    # this is a quick and dirt hack to be fixed\n",
    "    if temp.shape[0] == 1 + 2 * context:\n",
    "        input_instance = temp\n",
    "        label_instance = labels[index]\n",
    "        data_instance = [input_instance, label_instance]"
   ]
  },
  {
   "cell_type": "code",
   "execution_count": null,
   "metadata": {},
   "outputs": [],
   "source": [
    "plt.imshow(label_instance)"
   ]
  },
  {
   "cell_type": "code",
   "execution_count": null,
   "metadata": {},
   "outputs": [],
   "source": []
  },
  {
   "cell_type": "code",
   "execution_count": null,
   "metadata": {},
   "outputs": [],
   "source": []
  }
 ],
 "metadata": {
  "kernelspec": {
   "display_name": "Python 3",
   "language": "python",
   "name": "python3"
  },
  "language_info": {
   "codemirror_mode": {
    "name": "ipython",
    "version": 3
   },
   "file_extension": ".py",
   "mimetype": "text/x-python",
   "name": "python",
   "nbconvert_exporter": "python",
   "pygments_lexer": "ipython3",
   "version": "3.8.1"
  }
 },
 "nbformat": 4,
 "nbformat_minor": 4
}
