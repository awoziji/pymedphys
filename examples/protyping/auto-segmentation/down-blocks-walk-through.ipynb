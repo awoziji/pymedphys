{
 "cells": [
  {
   "cell_type": "markdown",
   "metadata": {},
   "source": [
    "# MANUAL BUILD OF DOWN BLOCKS\n",
    "Put together to help grok tf layers  \n",
    "For automated build of u-net see model_building.ipynb"
   ]
  },
  {
   "cell_type": "code",
   "execution_count": 72,
   "metadata": {},
   "outputs": [],
   "source": [
    "import tensorflow as tf"
   ]
  },
  {
   "cell_type": "code",
   "execution_count": 73,
   "metadata": {},
   "outputs": [
    {
     "data": {
      "text/plain": [
       "<tf.Tensor 'input_3:0' shape=(None, 21, 512, 512, 1) dtype=float32>"
      ]
     },
     "execution_count": 73,
     "metadata": {},
     "output_type": "execute_result"
    }
   ],
   "source": [
    "INPUT_SHAPE = (21, 512, 512,1)\n",
    "input_1 = tf.keras.layers.Input(INPUT_SHAPE)\n",
    "input_1"
   ]
  },
  {
   "cell_type": "markdown",
   "metadata": {},
   "source": [
    "# DOWN BLOCK 1"
   ]
  },
  {
   "cell_type": "code",
   "execution_count": 74,
   "metadata": {},
   "outputs": [
    {
     "name": "stdout",
     "output_type": "stream",
     "text": [
      "Tensor(\"conv3d_335/Identity:0\", shape=(None, 21, 512, 512, 32), dtype=float32)\n",
      "Tensor(\"activation_54/Identity:0\", shape=(None, 21, 512, 512, 1), dtype=float32)\n",
      "Tensor(\"conv3d_336/Identity:0\", shape=(None, 21, 512, 512, 32), dtype=float32)\n",
      "Tensor(\"conv3d_337/Identity:0\", shape=(None, 21, 512, 512, 32), dtype=float32)\n",
      "Tensor(\"conv3d_338/Identity:0\", shape=(None, 21, 512, 512, 32), dtype=float32)\n",
      "-----------\n",
      "Tensor(\"add_50/Identity:0\", shape=(None, 21, 512, 512, 32), dtype=float32)\n",
      "Tensor(\"average_pooling3d_30/Identity:0\", shape=(None, 21, 256, 256, 32), dtype=float32)\n"
     ]
    }
   ],
   "source": [
    "c_output_channels = 32\n",
    "m = 3\n",
    "n = 0\n",
    "\n",
    "#crop\n",
    "#central_fraction = 1\n",
    "#crop_central_depth_1 = tf.image.central_crop(input_1, central_fraction)\n",
    "crop_central_depth_1 = input_1[:]\n",
    "adapt_channels_1 = tf.keras.layers.Conv3D(32, (1, 1, 1), activation=None)(crop_central_depth_1)\n",
    "print(adapt_channels_1)\n",
    "\n",
    "#act\n",
    "act1 = tf.keras.layers.Activation(\"relu\")(input_1)\n",
    "print(act1)\n",
    "\n",
    "# m 2D convs\n",
    "c11 = tf.keras.layers.Conv3D(filters=32, kernel_size=(1,3,3), strides=1, activation='relu',kernel_initializer='he_normal',padding='same')(act1)\n",
    "print(c11)\n",
    "c12 = tf.keras.layers.Conv3D(filters=32, kernel_size=(1,3,3),strides=1,activation='relu',kernel_initializer='he_normal',padding='same')(c11)\n",
    "print(c12)\n",
    "c13 = tf.keras.layers.Conv3D(filters=32, kernel_size=(1,3,3),strides=1,activation='relu',kernel_initializer='he_normal',padding='same')(c12)\n",
    "print(c13)\n",
    "\n",
    "# cat\n",
    "#cat1 = tf.concat([c13, adapt_channels_1] , axis=4)\n",
    "#print(cat1)\n",
    "a1 = tf.keras.layers.Add()([c13, adapt_channels_1])\n",
    "\n",
    "print(\"-----------\")\n",
    "print(a1)\n",
    "\n",
    "#pool\n",
    "p1 = tf.keras.layers.AveragePooling3D(pool_size=(1, 2, 2), strides=None, padding='valid', data_format='channels_last')(a1)\n",
    "#p1 = tf.keras.layers.AveragePooling3D(pool_size=(1, 2, 2), strides=None, padding='valid', data_format='channels_first')(a1)\n",
    "print(p1)"
   ]
  },
  {
   "cell_type": "markdown",
   "metadata": {},
   "source": [
    "# DOWN BLOCK 2"
   ]
  },
  {
   "cell_type": "code",
   "execution_count": 75,
   "metadata": {},
   "outputs": [
    {
     "name": "stdout",
     "output_type": "stream",
     "text": [
      "adp Tensor(\"conv3d_339/Identity:0\", shape=(None, 21, 256, 256, 32), dtype=float32)\n",
      "act Tensor(\"activation_55/Identity:0\", shape=(None, 21, 256, 256, 32), dtype=float32)\n",
      "c1 Tensor(\"conv3d_340/Identity:0\", shape=(None, 21, 256, 256, 32), dtype=float32)\n",
      "c2 Tensor(\"conv3d_341/Identity:0\", shape=(None, 21, 256, 256, 32), dtype=float32)\n",
      "c3 Tensor(\"conv3d_342/Identity:0\", shape=(None, 21, 256, 256, 32), dtype=float32)\n",
      "-----------\n",
      "add Tensor(\"add_51/Identity:0\", shape=(None, 21, 256, 256, 32), dtype=float32)\n",
      "Tensor(\"average_pooling3d_31/Identity:0\", shape=(None, 21, 128, 128, 32), dtype=float32)\n"
     ]
    }
   ],
   "source": [
    "c_output_channels = 32\n",
    "m = 3\n",
    "n = 0\n",
    "central_fraction = 1\n",
    "\n",
    "#crop\n",
    "#crop_central_depth_2 = tf.image.central_crop(p1, central_fraction)\n",
    "crop_central_depth_2 = p1[:]\n",
    "adapt_channels_2 = tf.keras.layers.Conv3D(c_output_channels, kernel_size=1, activation=None)(crop_central_depth_2)\n",
    "print(\"adp\", adapt_channels_2)\n",
    "\n",
    "#act\n",
    "act2 = tf.keras.layers.Activation(\"relu\")(p1)\n",
    "print(\"act\", act2)\n",
    "\n",
    "# m 2D convs\n",
    "c21 = tf.keras.layers.Conv3D(filters=c_output_channels, kernel_size=(1,3,3), strides=1,activation='relu',kernel_initializer='he_normal',padding='same')(act2)\n",
    "c22 = tf.keras.layers.Conv3D(filters=c_output_channels, kernel_size=(1,3,3),strides=1,activation='relu',kernel_initializer='he_normal',padding='same')(c21)\n",
    "c23 = tf.keras.layers.Conv3D(filters=c_output_channels, kernel_size=(1,3,3),strides=1,activation='relu',kernel_initializer='he_normal',padding='same')(c22)\n",
    "print(\"c1\", c21)\n",
    "print(\"c2\", c22)\n",
    "print(\"c3\", c23)\n",
    "\n",
    "# cat\n",
    "#cat2 = tf.concat([c23, adapt_channels_2] , axis=4)\n",
    "a2 = tf.keras.layers.Add()([c23, adapt_channels_2])\n",
    "\n",
    "print(\"-----------\")\n",
    "print(\"add\", a2)\n",
    "\n",
    "#pool\n",
    "p2 = tf.keras.layers.AveragePooling3D(pool_size=(1, 2, 2), strides=None, padding='valid', data_format='channels_last')(a2)\n",
    "print(p2)"
   ]
  },
  {
   "cell_type": "markdown",
   "metadata": {},
   "source": [
    "# DOWN BLOCK 3"
   ]
  },
  {
   "cell_type": "code",
   "execution_count": 76,
   "metadata": {},
   "outputs": [
    {
     "name": "stdout",
     "output_type": "stream",
     "text": [
      "adp Tensor(\"conv3d_343/Identity:0\", shape=(None, 21, 128, 128, 64), dtype=float32)\n",
      "act Tensor(\"activation_56/Identity:0\", shape=(None, 21, 128, 128, 32), dtype=float32)\n",
      "c1 Tensor(\"conv3d_344/Identity:0\", shape=(None, 21, 128, 128, 64), dtype=float32)\n",
      "c2 Tensor(\"conv3d_345/Identity:0\", shape=(None, 21, 128, 128, 64), dtype=float32)\n",
      "c3 Tensor(\"conv3d_346/Identity:0\", shape=(None, 21, 128, 128, 64), dtype=float32)\n",
      "-----------\n",
      "add Tensor(\"add_52/Identity:0\", shape=(None, 21, 128, 128, 64), dtype=float32)\n",
      "Tensor(\"average_pooling3d_32/Identity:0\", shape=(None, 21, 64, 64, 64), dtype=float32)\n"
     ]
    }
   ],
   "source": [
    "c_output_channels = 64\n",
    "m = 3\n",
    "n = 0\n",
    "central_fraction = 1\n",
    "\n",
    "#crop\n",
    "#crop_central_depth_3 = tf.image.central_crop(p2, central_fraction)\n",
    "crop_central_depth_3 = p2[:]\n",
    "adapt_channels_3 = tf.keras.layers.Conv3D(c_output_channels, kernel_size=1, activation=None)(crop_central_depth_3)\n",
    "print(\"adp\", adapt_channels_3)\n",
    "\n",
    "#act\n",
    "act3 = tf.keras.layers.Activation(\"relu\")(p2)\n",
    "print(\"act\", act3)\n",
    "\n",
    "# m 2D convs\n",
    "c31 = tf.keras.layers.Conv3D(filters=c_output_channels, kernel_size=(1,3,3), strides=1,activation='relu',kernel_initializer='he_normal',padding='same')(act3)\n",
    "c32 = tf.keras.layers.Conv3D(filters=c_output_channels, kernel_size=(1,3,3),strides=1,activation='relu',kernel_initializer='he_normal',padding='same')(c31)\n",
    "c33 = tf.keras.layers.Conv3D(filters=c_output_channels, kernel_size=(1,3,3),strides=1,activation='relu',kernel_initializer='he_normal',padding='same')(c32)\n",
    "print(\"c1\", c31)\n",
    "print(\"c2\", c32)\n",
    "print(\"c3\", c33)\n",
    "\n",
    "# cat\n",
    "#cat2 = tf.concat([c23, adapt_channels_2] , axis=4)\n",
    "a3 = tf.keras.layers.Add()([c33, adapt_channels_3])\n",
    "\n",
    "print(\"-----------\")\n",
    "print(\"add\", a3)\n",
    "\n",
    "#pool\n",
    "p3 = tf.keras.layers.AveragePooling3D(pool_size=(1, 2, 2), strides=None, padding='valid', data_format='channels_last')(a3)\n",
    "print(p3)"
   ]
  },
  {
   "cell_type": "markdown",
   "metadata": {},
   "source": [
    "# DOWN BLOCK 4"
   ]
  },
  {
   "cell_type": "code",
   "execution_count": 77,
   "metadata": {},
   "outputs": [
    {
     "name": "stdout",
     "output_type": "stream",
     "text": [
      "adp Tensor(\"conv3d_347/Identity:0\", shape=(None, 19, 64, 64, 64), dtype=float32)\n",
      "------------\n",
      "act Tensor(\"activation_57/Identity:0\", shape=(None, 21, 64, 64, 64), dtype=float32)\n",
      "c1 Tensor(\"conv3d_348/Identity:0\", shape=(None, 21, 64, 64, 64), dtype=float32)\n",
      "c2 Tensor(\"conv3d_349/Identity:0\", shape=(None, 21, 64, 64, 64), dtype=float32)\n",
      "c3 Tensor(\"conv3d_350/Identity:0\", shape=(None, 19, 64, 64, 64), dtype=float32)\n",
      "c4 Tensor(\"conv3d_351/Identity:0\", shape=(None, 19, 64, 64, 64), dtype=float32)\n",
      "c5 Tensor(\"conv3d_352/Identity:0\", shape=(None, 19, 64, 64, 64), dtype=float32)\n",
      "=========================================================\n",
      "TO RIGHT Tensor(\"add_53/Identity:0\", shape=(None, 19, 64, 64, 64), dtype=float32)\n",
      "POOL Tensor(\"average_pooling3d_33/Identity:0\", shape=(None, 19, 32, 32, 64), dtype=float32)\n"
     ]
    }
   ],
   "source": [
    "c_output_channels = 64\n",
    "m = 1\n",
    "n = 2\n",
    "\n",
    "#crop\n",
    "#crop_central_depth_4 = tf.image.central_crop(p3, central_fraction)\n",
    "crop_central_depth_4 = p3[:, 1:20]\n",
    "adapt_channels_4 = tf.keras.layers.Conv3D(c_output_channels, kernel_size=(1,1,1), activation=None,strides=1, padding='valid')(crop_central_depth_4)\n",
    "print(\"adp\", adapt_channels_4)\n",
    "\n",
    "print(\"------------\")\n",
    "#act\n",
    "act4 = tf.keras.layers.Activation(\"relu\")(p3)\n",
    "print(\"act\", act4)\n",
    "\n",
    "# m 2D convs\n",
    "c41 = tf.keras.layers.Conv3D(filters=c_output_channels, kernel_size=(1,3,3), strides=1,activation='relu',kernel_initializer='he_normal',padding='same')(act4)\n",
    "print(\"c1\", c41)\n",
    "\n",
    "# n 3D\n",
    "c42 = tf.keras.layers.Conv3D(filters=c_output_channels, kernel_size=(1,3,3),strides=1,activation='relu',kernel_initializer='he_normal',padding='same')(c41)\n",
    "print(\"c2\", c42)\n",
    "c43 = tf.keras.layers.Conv3D(filters=c_output_channels, kernel_size=(3,1,1),strides=1,activation='relu',kernel_initializer='he_normal',padding='valid')(c42)\n",
    "print(\"c3\", c43)\n",
    "c44 = tf.keras.layers.Conv3D(filters=c_output_channels, kernel_size=(1,3,3),strides=1,activation='relu',kernel_initializer='he_normal',padding='same')(c43)\n",
    "print(\"c4\", c44)\n",
    "# thought this was supposed to be valid\n",
    "c45 = tf.keras.layers.Conv3D(filters=c_output_channels, kernel_size=(3,1,1),strides=1,activation=None,kernel_initializer='he_normal',padding='same')(c44)\n",
    "print(\"c5\", c45)\n",
    "\n",
    "# cat\n",
    "#cat2 = tf.concat([c23, adapt_channels_2] , axis=4)\n",
    "a4 = tf.keras.layers.Add()([c45, adapt_channels_4])\n",
    "\n",
    "print(\"=========================================================\")\n",
    "\n",
    "print(\"TO RIGHT\", a4)\n",
    "\n",
    "#pool\n",
    "p4 = tf.keras.layers.AveragePooling3D(pool_size=(1, 2, 2), strides=None, padding='valid', data_format='channels_last')(a4)\n",
    "print(\"POOL\", p4)"
   ]
  },
  {
   "cell_type": "markdown",
   "metadata": {},
   "source": [
    "# DOWN BLOCK 5"
   ]
  },
  {
   "cell_type": "code",
   "execution_count": 78,
   "metadata": {},
   "outputs": [
    {
     "name": "stdout",
     "output_type": "stream",
     "text": [
      "adp Tensor(\"conv3d_353/Identity:0\", shape=(None, 15, 32, 32, 128), dtype=float32)\n",
      "-----------\n",
      "act Tensor(\"activation_58/Identity:0\", shape=(None, 19, 32, 32, 64), dtype=float32)\n",
      "-----------\n",
      "c1 Tensor(\"conv3d_354/Identity:0\", shape=(None, 19, 32, 32, 128), dtype=float32)\n",
      "-----------\n",
      "-----------\n",
      "c2 Tensor(\"conv3d_355/Identity:0\", shape=(None, 19, 32, 32, 128), dtype=float32)\n",
      "c3 Tensor(\"conv3d_356/Identity:0\", shape=(None, 17, 32, 32, 128), dtype=float32)\n",
      "c4 Tensor(\"conv3d_357/Identity:0\", shape=(None, 17, 32, 32, 128), dtype=float32)\n",
      "c5 Tensor(\"conv3d_358/Identity:0\", shape=(None, 15, 32, 32, 128), dtype=float32)\n",
      "-----------\n",
      "add Tensor(\"add_54/Identity:0\", shape=(None, 15, 32, 32, 128), dtype=float32)\n",
      "Tensor(\"average_pooling3d_34/Identity:0\", shape=(None, 15, 16, 16, 128), dtype=float32)\n"
     ]
    }
   ],
   "source": [
    "c_output_channels = 128\n",
    "m = 1\n",
    "n = 2\n",
    "\n",
    "#crop\n",
    "#crop_central_depth_4 = tf.image.central_crop(p3, central_fraction)\n",
    "crop_central_depth_5 = p4[:, 3:18]\n",
    "adapt_channels_5 = tf.keras.layers.Conv3D(c_output_channels, kernel_size=(1,1,1), activation=None,strides=1, padding='valid')(crop_central_depth_5)\n",
    "print(\"adp\", adapt_channels_5)\n",
    "\n",
    "print(\"-----------\")\n",
    "\n",
    "#act\n",
    "act5 = tf.keras.layers.Activation(\"relu\")(p4)\n",
    "print(\"act\", act5)\n",
    "print(\"-----------\")\n",
    "# m 2D convs\n",
    "c51 = tf.keras.layers.Conv3D(filters=c_output_channels, kernel_size=3, strides=1,activation='relu',kernel_initializer='he_normal',padding='same')(act5)\n",
    "print(\"c1\", c51)\n",
    "print(\"-----------\") \n",
    "print(\"-----------\")\n",
    "# n 3D\n",
    "c52 = tf.keras.layers.Conv3D(filters=c_output_channels, kernel_size=(1,3,3),strides=1,activation='relu',kernel_initializer='he_normal',padding='same')(c51)\n",
    "print(\"c2\", c52)\n",
    "c53 = tf.keras.layers.Conv3D(filters=c_output_channels, kernel_size=(3,1,1),strides=1,activation='relu',kernel_initializer='he_normal',padding='valid')(c52)\n",
    "print(\"c3\", c53)\n",
    "c54 = tf.keras.layers.Conv3D(filters=c_output_channels, kernel_size=(1,3,3),strides=1,activation='relu',kernel_initializer='he_normal',padding='same')(c53)\n",
    "print(\"c4\", c54)\n",
    "c55 = tf.keras.layers.Conv3D(filters=c_output_channels, kernel_size=(3,1,1),strides=1,activation=None,kernel_initializer='he_normal',padding='valid')(c54)\n",
    "print(\"c5\", c55)\n",
    "\n",
    "# cat\n",
    "#cat2 = tf.concat([c23, adapt_channels_2] , axis=4)\n",
    "a5 = tf.keras.layers.Add()([c55, adapt_channels_5])\n",
    "\n",
    "print(\"-----------\")\n",
    "\n",
    "print(\"add\", a5)\n",
    "\n",
    "#pool\n",
    "p5 = tf.keras.layers.AveragePooling3D(pool_size=(1, 2, 2), strides=None, padding='valid', data_format='channels_last')(a5)\n",
    "print(p5)"
   ]
  },
  {
   "cell_type": "markdown",
   "metadata": {},
   "source": [
    "# DOWN BLOCK 6"
   ]
  },
  {
   "cell_type": "code",
   "execution_count": 79,
   "metadata": {},
   "outputs": [
    {
     "name": "stdout",
     "output_type": "stream",
     "text": [
      "adp Tensor(\"conv3d_359/Identity:0\", shape=(None, 11, 16, 16, 128), dtype=float32)\n",
      "-----------\n",
      "act Tensor(\"activation_59/Identity:0\", shape=(None, 15, 16, 16, 128), dtype=float32)\n",
      "-----------\n",
      "c1 Tensor(\"conv3d_360/Identity:0\", shape=(None, 15, 16, 16, 128), dtype=float32)\n",
      "-----------\n",
      "-----------\n",
      "c2 Tensor(\"conv3d_361/Identity:0\", shape=(None, 15, 16, 16, 128), dtype=float32)\n",
      "c3 Tensor(\"conv3d_362/Identity:0\", shape=(None, 13, 16, 16, 128), dtype=float32)\n",
      "c4 Tensor(\"conv3d_363/Identity:0\", shape=(None, 13, 16, 16, 128), dtype=float32)\n",
      "c5 Tensor(\"conv3d_364/Identity:0\", shape=(None, 11, 16, 16, 128), dtype=float32)\n",
      "-----------\n",
      "add Tensor(\"add_55/Identity:0\", shape=(None, 11, 16, 16, 128), dtype=float32)\n",
      "Tensor(\"average_pooling3d_35/Identity:0\", shape=(None, 11, 8, 8, 128), dtype=float32)\n"
     ]
    }
   ],
   "source": [
    "c_output_channels = 128\n",
    "m = 1\n",
    "n = 2\n",
    "\n",
    "#crop\n",
    "#crop_central_depth_4 = tf.image.central_crop(p3, central_fraction)\n",
    "crop_central_depth_6 = p5[:, 4:17]\n",
    "adapt_channels_6 = tf.keras.layers.Conv3D(c_output_channels, kernel_size=(1,1,1), activation=None,strides=1, padding='valid')(crop_central_depth_6)\n",
    "print(\"adp\", adapt_channels_6)\n",
    "\n",
    "print(\"-----------\")\n",
    "\n",
    "#act\n",
    "act6 = tf.keras.layers.Activation(\"relu\")(p5)\n",
    "print(\"act\", act6)\n",
    "print(\"-----------\")\n",
    "# m 2D convs\n",
    "c61 = tf.keras.layers.Conv3D(filters=c_output_channels, kernel_size=3, strides=1,activation='relu',kernel_initializer='he_normal',padding='same')(act6)\n",
    "print(\"c1\", c61)\n",
    "print(\"-----------\") \n",
    "print(\"-----------\")\n",
    "# n 3D\n",
    "c62 = tf.keras.layers.Conv3D(filters=c_output_channels, kernel_size=(1,3,3),strides=1,activation='relu',kernel_initializer='he_normal',padding='same')(c61)\n",
    "print(\"c2\", c62)\n",
    "c63 = tf.keras.layers.Conv3D(filters=c_output_channels, kernel_size=(3,1,1),strides=1,activation='relu',kernel_initializer='he_normal',padding='valid')(c62)\n",
    "print(\"c3\", c63)\n",
    "c64 = tf.keras.layers.Conv3D(filters=c_output_channels, kernel_size=(1,3,3),strides=1,activation='relu',kernel_initializer='he_normal',padding='same')(c63)\n",
    "print(\"c4\", c64)\n",
    "c65 = tf.keras.layers.Conv3D(filters=c_output_channels, kernel_size=(3,1,1),strides=1,activation=None,kernel_initializer='he_normal',padding='valid')(c64)\n",
    "print(\"c5\", c65)\n",
    "\n",
    "# cat\n",
    "#cat2 = tf.concat([c23, adapt_channels_2] , axis=4)\n",
    "a6 = tf.keras.layers.Add()([c65, adapt_channels_6])\n",
    "\n",
    "print(\"-----------\")\n",
    "\n",
    "print(\"add\", a6)\n",
    "\n",
    "#pool\n",
    "p6 = tf.keras.layers.AveragePooling3D(pool_size=(1, 2, 2), strides=None, padding='valid', data_format='channels_last')(a6)\n",
    "print(p6)"
   ]
  },
  {
   "cell_type": "markdown",
   "metadata": {},
   "source": [
    "# DOWN BLOCK 7"
   ]
  },
  {
   "cell_type": "code",
   "execution_count": 80,
   "metadata": {},
   "outputs": [
    {
     "name": "stdout",
     "output_type": "stream",
     "text": [
      "adp Tensor(\"conv3d_365/Identity:0\", shape=(None, 1, 8, 8, 256), dtype=float32)\n",
      "-----------\n",
      "act Tensor(\"activation_60/Identity:0\", shape=(None, 11, 8, 8, 128), dtype=float32)\n",
      "-----------\n",
      "c2 Tensor(\"conv3d_366/Identity:0\", shape=(None, 11, 8, 8, 256), dtype=float32)\n",
      "c3 Tensor(\"conv3d_367/Identity:0\", shape=(None, 9, 8, 8, 256), dtype=float32)\n",
      "c4 Tensor(\"conv3d_368/Identity:0\", shape=(None, 9, 8, 8, 256), dtype=float32)\n",
      "c5 Tensor(\"conv3d_369/Identity:0\", shape=(None, 7, 8, 8, 256), dtype=float32)\n",
      "c4 Tensor(\"conv3d_370/Identity:0\", shape=(None, 7, 8, 8, 256), dtype=float32)\n",
      "c5 Tensor(\"conv3d_371/Identity:0\", shape=(None, 5, 8, 8, 256), dtype=float32)\n",
      "c4 Tensor(\"conv3d_372/Identity:0\", shape=(None, 5, 8, 8, 256), dtype=float32)\n",
      "c5 Tensor(\"conv3d_373/Identity:0\", shape=(None, 3, 8, 8, 256), dtype=float32)\n",
      "c4 Tensor(\"conv3d_374/Identity:0\", shape=(None, 3, 8, 8, 256), dtype=float32)\n",
      "c80 Tensor(\"conv3d_375/Identity:0\", shape=(None, 1, 8, 8, 256), dtype=float32)\n",
      "-----------\n",
      "add Tensor(\"add_56/Identity:0\", shape=(None, 1, 8, 8, 256), dtype=float32)\n"
     ]
    }
   ],
   "source": [
    "c_output_channels = 256\n",
    "m = 0\n",
    "n = 4\n",
    "\n",
    "#crop\n",
    "#crop_central_depth_4 = tf.image.central_crop(p3, central_fraction)\n",
    "crop_central_depth_7 = p6[:, 10:11]\n",
    "adapt_channels_7 = tf.keras.layers.Conv3D(c_output_channels, kernel_size=(1,1,1), activation=None,strides=1, padding='valid')(crop_central_depth_7)\n",
    "print(\"adp\", adapt_channels_7)\n",
    "\n",
    "print(\"-----------\")\n",
    "\n",
    "#act\n",
    "act7 = tf.keras.layers.Activation(\"relu\")(p6)\n",
    "print(\"act\", act7)\n",
    "print(\"-----------\")\n",
    "\n",
    "\n",
    "# n 3D\n",
    "c71 = tf.keras.layers.Conv3D(filters=c_output_channels, kernel_size=(1,3,3),strides=1,activation='relu',kernel_initializer='he_normal',padding='same')(act7)\n",
    "print(\"c2\", c71)\n",
    "c72 = tf.keras.layers.Conv3D(filters=c_output_channels, kernel_size=(3,1,1),strides=1,activation='relu',kernel_initializer='he_normal',padding='valid')(c71)\n",
    "print(\"c3\", c72)\n",
    "\n",
    "c73 = tf.keras.layers.Conv3D(filters=c_output_channels, kernel_size=(1,3,3),strides=1,activation='relu',kernel_initializer='he_normal',padding='same')(c72)\n",
    "print(\"c4\", c73)\n",
    "c74 = tf.keras.layers.Conv3D(filters=c_output_channels, kernel_size=(3,1,1),strides=1,activation='relu',kernel_initializer='he_normal',padding='valid')(c73)\n",
    "print(\"c5\", c74)\n",
    "\n",
    "c75 = tf.keras.layers.Conv3D(filters=c_output_channels, kernel_size=(1,3,3),strides=1,activation='relu',kernel_initializer='he_normal',padding='same')(c74)\n",
    "print(\"c4\", c75)\n",
    "c76 = tf.keras.layers.Conv3D(filters=c_output_channels, kernel_size=(3,1,1),strides=1,activation='relu',kernel_initializer='he_normal',padding='valid')(c75)\n",
    "print(\"c5\", c76)\n",
    "\n",
    "c77 = tf.keras.layers.Conv3D(filters=c_output_channels, kernel_size=(1,3,3),strides=1,activation='relu',kernel_initializer='he_normal',padding='same')(c76)\n",
    "print(\"c4\", c77)\n",
    "c78 = tf.keras.layers.Conv3D(filters=c_output_channels, kernel_size=(3,1,1),strides=1,activation='relu',kernel_initializer='he_normal',padding='valid')(c77)\n",
    "print(\"c5\", c78)\n",
    "\n",
    "c79 = tf.keras.layers.Conv3D(filters=c_output_channels, kernel_size=(1,3,3),strides=1,activation='relu',kernel_initializer='he_normal',padding='same')(c78)\n",
    "print(\"c4\", c79)\n",
    "c80 = tf.keras.layers.Conv3D(filters=c_output_channels, kernel_size=(3,1,1),strides=1,activation=None,kernel_initializer='he_normal',padding='valid')(c79)\n",
    "print(\"c80\", c80)\n",
    "\n",
    "# cat\n",
    "#cat2 = tf.concat([c23, adapt_channels_2] , axis=4)\n",
    "a7 = tf.keras.layers.Add()([c80, adapt_channels_7])\n",
    "\n",
    "print(\"-----------\")\n",
    "\n",
    "print(\"add\", a7)\n"
   ]
  },
  {
   "cell_type": "code",
   "execution_count": null,
   "metadata": {},
   "outputs": [],
   "source": []
  },
  {
   "cell_type": "code",
   "execution_count": null,
   "metadata": {},
   "outputs": [],
   "source": []
  }
 ],
 "metadata": {
  "kernelspec": {
   "display_name": "Python 3",
   "language": "python",
   "name": "python3"
  },
  "language_info": {
   "codemirror_mode": {
    "name": "ipython",
    "version": 3
   },
   "file_extension": ".py",
   "mimetype": "text/x-python",
   "name": "python",
   "nbconvert_exporter": "python",
   "pygments_lexer": "ipython3",
   "version": "3.8.1"
  }
 },
 "nbformat": 4,
 "nbformat_minor": 4
}
