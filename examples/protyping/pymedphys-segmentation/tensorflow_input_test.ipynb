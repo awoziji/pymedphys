{
 "cells": [
  {
   "cell_type": "code",
   "execution_count": null,
   "metadata": {},
   "outputs": [],
   "source": [
    "import tensorflow as tf\n",
    "import pathlib\n",
    "import dicom_process\n",
    "import glob\n",
    "import tensorflow_io as tfio\n",
    "import matplotlib.pyplot as plt\n",
    "import numpy as np\n",
    "\n",
    "plt.rcParams['figure.figsize'] = [6, 6]"
   ]
  },
  {
   "cell_type": "code",
   "execution_count": null,
   "metadata": {},
   "outputs": [],
   "source": [
    "PATH = \"/home/matthew/priv/PROSTATE_TEST/\""
   ]
  },
  {
   "cell_type": "code",
   "execution_count": null,
   "metadata": {},
   "outputs": [],
   "source": [
    "BUFFER_SIZE = 5\n",
    "BATCH_SIZE = 2\n",
    "CONTEXT = 5"
   ]
  },
  {
   "cell_type": "code",
   "execution_count": null,
   "metadata": {},
   "outputs": [],
   "source": [
    "#data = list(pathlib.Path(PATH).rglob('*/CT*.dcm'))\n",
    "#patient_id = [path.parent.stem for path in data]\n",
    "#data = [str(path) for path in data]\n",
    "\n",
    "#tensorflow_initial_input = zip(patient_id, data)"
   ]
  },
  {
   "cell_type": "code",
   "execution_count": null,
   "metadata": {},
   "outputs": [],
   "source": [
    "data_folders = dicom_process.list_files(PATH, None)\n",
    "data_folders"
   ]
  },
  {
   "cell_type": "code",
   "execution_count": null,
   "metadata": {},
   "outputs": [],
   "source": [
    "import itertools\n",
    "#flattened_list  = list(itertools.chain(*list_of_lists))\n",
    "\n",
    "CONTEXT = 10\n",
    "central_images = []\n",
    "all_images = []\n",
    "for folder in data_folders:\n",
    "    central_images.append(dicom_process.list_files(folder, '*CT*.dcm')[CONTEXT:-CONTEXT])\n",
    "    all_images.append(dicom_process.list_files(folder, '*CT*.dcm'))\n",
    "\n",
    "central_images  = list(itertools.chain(*central_images))\n",
    "all_images = list(itertools.chain(*all_images))"
   ]
  },
  {
   "cell_type": "code",
   "execution_count": null,
   "metadata": {},
   "outputs": [],
   "source": []
  },
  {
   "cell_type": "code",
   "execution_count": null,
   "metadata": {},
   "outputs": [],
   "source": [
    "def load_dcm_train(dcm_file):\n",
    "    image_bytes = tf.io.read_file(dcm_file)\n",
    "    image = tfio.image.decode_dicom_image(image_bytes, dtype=tf.uint16)\n",
    "    return dcm_file"
   ]
  },
  {
   "cell_type": "code",
   "execution_count": null,
   "metadata": {},
   "outputs": [],
   "source": [
    "# we want this list passed to be \n",
    "dataset = tf.data.Dataset.from_tensor_slices(data) \n",
    "dataset = dataset.map(load_dcm_train)\n",
    "dataset = dataset.shuffle(BUFFER_SIZE)\n",
    "dataset = dataset.batch(BATCH_SIZE)"
   ]
  },
  {
   "cell_type": "code",
   "execution_count": null,
   "metadata": {},
   "outputs": [],
   "source": [
    "dataset"
   ]
  },
  {
   "cell_type": "code",
   "execution_count": null,
   "metadata": {},
   "outputs": [],
   "source": [
    "image_bytes = tf.io.read_file(data[0])\n",
    "\n",
    "image = tfio.image.decode_dicom_image(image_bytes, scale='auto', dtype=tf.uint16)\n",
    "\n",
    "print(image)\n",
    "\n",
    "plt.imshow(np.squeeze(image.numpy()), cmap='gray')\n"
   ]
  },
  {
   "cell_type": "code",
   "execution_count": null,
   "metadata": {},
   "outputs": [],
   "source": []
  },
  {
   "cell_type": "code",
   "execution_count": null,
   "metadata": {},
   "outputs": [],
   "source": [
    "image = tfio.image.decode_dicom_image(image_bytes, scale='auto', dtype=tf.uint16)"
   ]
  },
  {
   "cell_type": "code",
   "execution_count": null,
   "metadata": {},
   "outputs": [],
   "source": []
  },
  {
   "cell_type": "code",
   "execution_count": null,
   "metadata": {},
   "outputs": [],
   "source": []
  }
 ],
 "metadata": {
  "kernelspec": {
   "display_name": "python37",
   "language": "python",
   "name": "python37"
  },
  "language_info": {
   "codemirror_mode": {
    "name": "ipython",
    "version": 3
   },
   "file_extension": ".py",
   "mimetype": "text/x-python",
   "name": "python",
   "nbconvert_exporter": "python",
   "pygments_lexer": "ipython3",
   "version": "3.7.5"
  }
 },
 "nbformat": 4,
 "nbformat_minor": 4
}
