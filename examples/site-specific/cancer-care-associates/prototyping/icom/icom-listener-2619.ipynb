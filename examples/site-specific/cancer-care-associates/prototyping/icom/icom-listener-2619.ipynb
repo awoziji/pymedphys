{
 "cells": [
  {
   "cell_type": "code",
   "execution_count": null,
   "metadata": {},
   "outputs": [],
   "source": [
    "import socket\n",
    "from datetime import datetime\n",
    "import pathlib\n",
    "import shutil"
   ]
  },
  {
   "cell_type": "code",
   "execution_count": null,
   "metadata": {},
   "outputs": [],
   "source": [
    "holding_dir = pathlib.Path('holding')\n",
    "processing_dir = pathlib.Path('processing')"
   ]
  },
  {
   "cell_type": "code",
   "execution_count": null,
   "metadata": {},
   "outputs": [],
   "source": [
    "machine_id = '2619'"
   ]
  },
  {
   "cell_type": "code",
   "execution_count": null,
   "metadata": {},
   "outputs": [],
   "source": [
    "ip = '192.168.100.200'\n",
    "batch = 100"
   ]
  },
  {
   "cell_type": "code",
   "execution_count": null,
   "metadata": {},
   "outputs": [],
   "source": [
    "s = socket.socket(socket.AF_INET, socket.SOCK_STREAM)\n",
    "s.connect((ip, 1706))\n",
    "print(s)\n",
    "\n",
    "try:\n",
    "    while True:\n",
    "        data = b''\n",
    "        for _ in range(batch):\n",
    "            data += s.recv(8192)\n",
    "\n",
    "        timestamp = datetime.now().strftime(\"%Y%m%d_%H%M%S_%f\")\n",
    "        filename = f\"{machine_id}_{timestamp}.txt\"\n",
    "\n",
    "        holding_path = holding_dir.joinpath(filename)\n",
    "        processing_path = processing_dir.joinpath(filename)\n",
    "\n",
    "        with open(holding_path, 'wb') as a_file:\n",
    "            a_file.write(data)\n",
    "\n",
    "        shutil.move(holding_path, processing_path)\n",
    "finally:\n",
    "    s.close()\n",
    "    print(s)"
   ]
  },
  {
   "cell_type": "code",
   "execution_count": null,
   "metadata": {},
   "outputs": [],
   "source": []
  }
 ],
 "metadata": {
  "kernelspec": {
   "display_name": "pymedphys-master",
   "language": "python",
   "name": "pymedphys-master"
  },
  "language_info": {
   "codemirror_mode": {
    "name": "ipython",
    "version": 3
   },
   "file_extension": ".py",
   "mimetype": "text/x-python",
   "name": "python",
   "nbconvert_exporter": "python",
   "pygments_lexer": "ipython3",
   "version": "3.7.5"
  }
 },
 "nbformat": 4,
 "nbformat_minor": 4
}
