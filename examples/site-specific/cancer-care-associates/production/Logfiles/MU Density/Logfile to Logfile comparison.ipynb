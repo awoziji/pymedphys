{
 "cells": [
  {
   "cell_type": "code",
   "execution_count": null,
   "metadata": {},
   "outputs": [],
   "source": [
    "import pathlib"
   ]
  },
  {
   "cell_type": "code",
   "execution_count": null,
   "metadata": {},
   "outputs": [],
   "source": [
    "# Makes it so any changes in pymedphys is automatically\n",
    "# propagated into the notebook without needing a kernel reset.\n",
    "from IPython.lib.deepreload import reload\n",
    "%load_ext autoreload\n",
    "%autoreload 2"
   ]
  },
  {
   "cell_type": "code",
   "execution_count": null,
   "metadata": {},
   "outputs": [],
   "source": [
    "import pymedphys"
   ]
  },
  {
   "cell_type": "code",
   "execution_count": null,
   "metadata": {},
   "outputs": [],
   "source": [
    "root_logfiles = pathlib.Path(r'\\\\physics-server\\LinacLogFiles\\indexed')\n",
    "patient_id = '999993'\n",
    "field_label = '9309A'\n",
    "\n",
    "logfile_paths_a = list(root_logfiles.glob(f'*/{patient_id}_*/*/*{field_label}*/*/*.trf'))\n",
    "logfile_paths_a"
   ]
  },
  {
   "cell_type": "code",
   "execution_count": null,
   "metadata": {},
   "outputs": [],
   "source": [
    "field_label = '9309B'\n",
    "\n",
    "logfile_paths_b = list(root_logfiles.glob(f'*/{patient_id}_*/*/*{field_label}*/*/*.trf'))\n",
    "logfile_paths_b"
   ]
  },
  {
   "cell_type": "code",
   "execution_count": null,
   "metadata": {},
   "outputs": [],
   "source": [
    "deliveries_a = [\n",
    "    pymedphys.Delivery.from_logfile(path)\n",
    "    for path in logfile_paths_a\n",
    "]"
   ]
  },
  {
   "cell_type": "code",
   "execution_count": null,
   "metadata": {},
   "outputs": [],
   "source": [
    "deliveries_b = [\n",
    "    pymedphys.Delivery.from_logfile(path)\n",
    "    for path in logfile_paths_b\n",
    "]"
   ]
  },
  {
   "cell_type": "code",
   "execution_count": null,
   "metadata": {},
   "outputs": [],
   "source": [
    "deliveries_a_tuned = deliveries_a[0:3]\n",
    "deliveries_a_original = deliveries_a[3]"
   ]
  },
  {
   "cell_type": "code",
   "execution_count": null,
   "metadata": {},
   "outputs": [],
   "source": [
    "deliveries_b_tuned = deliveries_a[0]\n",
    "deliveries_b_original = deliveries_a[1::]"
   ]
  },
  {
   "cell_type": "code",
   "execution_count": null,
   "metadata": {},
   "outputs": [],
   "source": [
    "mu_densities_a_tuned = [\n",
    "    delivery.mudensity() for delivery in deliveries_a_tuned\n",
    "]"
   ]
  },
  {
   "cell_type": "code",
   "execution_count": null,
   "metadata": {},
   "outputs": [],
   "source": [
    "mu_densities_a_original = [\n",
    "    delivery.mudensity() for delivery in deliveries_a_original\n",
    "]"
   ]
  },
  {
   "cell_type": "code",
   "execution_count": null,
   "metadata": {},
   "outputs": [],
   "source": [
    "mu_densities_b_tuned = [\n",
    "    delivery.mudensity() for delivery in deliveries_b_tuned\n",
    "]"
   ]
  },
  {
   "cell_type": "code",
   "execution_count": null,
   "metadata": {},
   "outputs": [],
   "source": [
    "mu_densities_b_original = [\n",
    "    delivery.mudensity() for delivery in deliveries_b_original\n",
    "]"
   ]
  },
  {
   "cell_type": "code",
   "execution_count": null,
   "metadata": {},
   "outputs": [],
   "source": []
  }
 ],
 "metadata": {
  "kernelspec": {
   "display_name": "pymedphys-master",
   "language": "python",
   "name": "pymedphys-master"
  },
  "language_info": {
   "codemirror_mode": {
    "name": "ipython",
    "version": 3
   },
   "file_extension": ".py",
   "mimetype": "text/x-python",
   "name": "python",
   "nbconvert_exporter": "python",
   "pygments_lexer": "ipython3",
   "version": "3.7.0"
  }
 },
 "nbformat": 4,
 "nbformat_minor": 4
}
