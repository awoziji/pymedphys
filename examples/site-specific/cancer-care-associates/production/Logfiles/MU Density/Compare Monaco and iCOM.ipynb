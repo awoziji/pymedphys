{
 "cells": [
  {
   "cell_type": "code",
   "execution_count": null,
   "metadata": {},
   "outputs": [],
   "source": [
    "import pathlib\n",
    "import json\n",
    "import lzma\n",
    "\n",
    "import pandas as pd"
   ]
  },
  {
   "cell_type": "code",
   "execution_count": null,
   "metadata": {},
   "outputs": [],
   "source": [
    "# Makes it so any changes in pymedphys is automatically\n",
    "# propagated into the notebook without needing a kernel reset.\n",
    "from IPython.lib.deepreload import reload\n",
    "%load_ext autoreload\n",
    "%autoreload 2"
   ]
  },
  {
   "cell_type": "code",
   "execution_count": null,
   "metadata": {},
   "outputs": [],
   "source": [
    "import pymedphys\n",
    "import pymedphys._utilities.filehash\n",
    "\n",
    "from prototyping import *"
   ]
  },
  {
   "cell_type": "code",
   "execution_count": null,
   "metadata": {},
   "outputs": [],
   "source": [
    "icom_directory = pathlib.Path(r'\\\\physics-server\\iComLogFiles\\patients')\n",
    "monaco_directory = pathlib.Path(r'\\\\monacoda\\FocalData\\RCCC\\1~Clinical')\n",
    "output_directory = pathlib.Path(r'S:\\Physics\\Patient Specific Logfile Fluence')\n",
    "\n",
    "pdf_directory = pathlib.Path(r'P:\\Scanned Documents\\RT\\PhysChecks\\Logfile PDFs')"
   ]
  },
  {
   "cell_type": "markdown",
   "metadata": {},
   "source": [
    "## Patient ID Cell"
   ]
  },
  {
   "cell_type": "code",
   "execution_count": null,
   "metadata": {},
   "outputs": [],
   "source": [
    "patient_id = '008566'\n",
    "\n",
    "percent_deviation = 2\n",
    "mm_dist_threshold = 0.5"
   ]
  },
  {
   "cell_type": "markdown",
   "metadata": {},
   "source": [
    "## Available Monaco Plans and Mosaiq Sites"
   ]
  },
  {
   "cell_type": "markdown",
   "metadata": {},
   "source": [
    "### iCOM Deliveries"
   ]
  },
  {
   "cell_type": "code",
   "execution_count": null,
   "metadata": {},
   "outputs": [],
   "source": [
    "icom_deliveries = list(icom_directory.glob(f'{patient_id}_*/*.xz'))\n",
    "icom_deliveries"
   ]
  },
  {
   "cell_type": "markdown",
   "metadata": {},
   "source": [
    "### Monaco Plans"
   ]
  },
  {
   "cell_type": "code",
   "execution_count": null,
   "metadata": {},
   "outputs": [],
   "source": [
    "all_tel_paths = list(monaco_directory.glob(f'*~{patient_id}/plan/*/tel.1'))\n",
    "all_tel_paths"
   ]
  },
  {
   "cell_type": "markdown",
   "metadata": {},
   "source": [
    "## Custom Monaco/iCOM Alignment"
   ]
  },
  {
   "cell_type": "code",
   "execution_count": null,
   "metadata": {},
   "outputs": [],
   "source": [
    "monaco_plan_name = 'WHOLEBRAIN'\n",
    "icom_delivery = '20200213_091126'"
   ]
  },
  {
   "cell_type": "code",
   "execution_count": null,
   "metadata": {},
   "outputs": [],
   "source": [
    "tel_path = list(monaco_directory.glob(f'*~{patient_id}/plan/{monaco_plan_name}/tel.1'))[-1]\n",
    "tel_path"
   ]
  },
  {
   "cell_type": "code",
   "execution_count": null,
   "metadata": {},
   "outputs": [],
   "source": [
    "icom_path = list(icom_directory.glob(f'{patient_id}_*/{icom_delivery}.xz'))[-1]\n",
    "icom_path"
   ]
  },
  {
   "cell_type": "code",
   "execution_count": null,
   "metadata": {},
   "outputs": [],
   "source": [
    "with lzma.open(icom_path, 'r') as f:\n",
    "    icom_stream = f.read()"
   ]
  },
  {
   "cell_type": "code",
   "execution_count": null,
   "metadata": {},
   "outputs": [],
   "source": [
    "delivery_icom = pymedphys.Delivery.from_icom(icom_stream)\n",
    "mudensity_icom = delivery_icom.mudensity()"
   ]
  },
  {
   "cell_type": "code",
   "execution_count": null,
   "metadata": {},
   "outputs": [],
   "source": [
    "mudensity_tel = get_mu_density_from_file(tel_path)"
   ]
  },
  {
   "cell_type": "code",
   "execution_count": null,
   "metadata": {},
   "outputs": [],
   "source": [
    "gamma = calc_gamma(to_tuple(mudensity_tel), to_tuple(mudensity_icom))\n",
    "\n",
    "results_dir = output_directory.joinpath(patient_id, tel_path.parent.name, icom_path.stem)\n",
    "results_dir.mkdir(exist_ok=True, parents=True)\n",
    "\n",
    "header_text = (\n",
    "    f\"Patient ID: {patient_id}\\n\"\n",
    "    f\"Plan Name: {tel_path.parent.name}\\n\"\n",
    ")\n",
    "\n",
    "footer_text = (\n",
    "    f\"tel.1 file path: {str(tel_path)}\\n\"\n",
    "    f\"icom file path: {str(icom_path)}\\n\"\n",
    "    f\"results path: {str(results_dir)}\"\n",
    ")\n",
    "\n",
    "png_filepath = str(results_dir.joinpath(\"result.png\").resolve())\n",
    "pdf_filepath = str(pdf_directory.joinpath(f\"{patient_id}.pdf\").resolve())\n",
    "\n",
    "fig = plot_and_save_results(\n",
    "    mudensity_tel, mudensity_icom, \n",
    "    gamma, png_filepath, pdf_filepath, \n",
    "    header_text=header_text, footer_text=footer_text\n",
    ")\n",
    "\n",
    "fig.tight_layout()\n",
    "plt.savefig(png_filepath, dpi=300)\n",
    "plt.show()\n",
    "\n",
    "!magick convert \"{png_filepath}\" \"{pdf_filepath}\""
   ]
  }
 ],
 "metadata": {
  "kernelspec": {
   "display_name": "pymedphys-master",
   "language": "python",
   "name": "pymedphys-master"
  },
  "language_info": {
   "codemirror_mode": {
    "name": "ipython",
    "version": 3
   },
   "file_extension": ".py",
   "mimetype": "text/x-python",
   "name": "python",
   "nbconvert_exporter": "python",
   "pygments_lexer": "ipython3",
   "version": "3.7.0"
  }
 },
 "nbformat": 4,
 "nbformat_minor": 4
}
