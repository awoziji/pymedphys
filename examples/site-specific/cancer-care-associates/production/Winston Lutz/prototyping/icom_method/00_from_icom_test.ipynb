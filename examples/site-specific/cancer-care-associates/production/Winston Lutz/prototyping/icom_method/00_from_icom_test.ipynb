{
 "cells": [
  {
   "cell_type": "code",
   "execution_count": null,
   "metadata": {},
   "outputs": [],
   "source": [
    "import pathlib\n",
    "import tempfile\n",
    "import datetime\n",
    "import os\n",
    "import time\n",
    "\n",
    "import numpy as np\n",
    "import pandas as pd\n",
    "import matplotlib.pyplot as plt\n",
    "\n",
    "import scipy.interpolate"
   ]
  },
  {
   "cell_type": "code",
   "execution_count": null,
   "metadata": {},
   "outputs": [],
   "source": [
    "# Makes it so any changes in pymedphys is automatically\n",
    "# propagated into the notebook without needing a kernel reset.\n",
    "from IPython.lib.deepreload import reload\n",
    "%load_ext autoreload\n",
    "%autoreload 2"
   ]
  },
  {
   "cell_type": "code",
   "execution_count": null,
   "metadata": {},
   "outputs": [],
   "source": [
    "import pymedphys._losslessjpeg\n",
    "import pymedphys._wlutz.core\n",
    "import pymedphys._wlutz.reporting\n",
    "import pymedphys._wlutz.iview\n",
    "import pymedphys._vendor.pylinac.winstonlutz"
   ]
  },
  {
   "cell_type": "code",
   "execution_count": null,
   "metadata": {},
   "outputs": [],
   "source": [
    "results_dir = pathlib.Path(r'S:\\Physics\\Programming\\results\\Wlutz_Arc\\2020-01-16_4299')"
   ]
  },
  {
   "cell_type": "code",
   "execution_count": null,
   "metadata": {},
   "outputs": [],
   "source": [
    "images = list(pathlib.Path(r'S:\\Temp').glob('**/*.jpg'))\n",
    "# images"
   ]
  },
  {
   "cell_type": "code",
   "execution_count": null,
   "metadata": {},
   "outputs": [],
   "source": [
    "mechanical_icom_data_path = pathlib.Path(r'\\\\physics-server\\iComLogFiles\\mechanical\\4299\\20200116.csv')\n",
    "icom_data = pd.read_csv(mechanical_icom_data_path)\n",
    "icom_data"
   ]
  },
  {
   "cell_type": "code",
   "execution_count": null,
   "metadata": {},
   "outputs": [],
   "source": []
  },
  {
   "cell_type": "code",
   "execution_count": null,
   "metadata": {},
   "outputs": [],
   "source": [
    "diff = np.diff(icom_data['Monitor Units'])\n",
    "diff[diff<0] = 0 \n",
    "\n",
    "diff = diff[diff!=0]\n",
    "\n",
    "plt.hist(diff, 100)"
   ]
  },
  {
   "cell_type": "code",
   "execution_count": null,
   "metadata": {},
   "outputs": [],
   "source": [
    "image_timestamps = [\n",
    "    pd.Timestamp(datetime.datetime.fromtimestamp(os.path.getmtime(path)))\n",
    "    for path in images\n",
    "]\n",
    "# timestamps"
   ]
  },
  {
   "cell_type": "code",
   "execution_count": null,
   "metadata": {},
   "outputs": [],
   "source": [
    "\n",
    "\n"
   ]
  },
  {
   "cell_type": "code",
   "execution_count": null,
   "metadata": {},
   "outputs": [],
   "source": [
    "np.unique([1,1,1,2], return_counts=True)"
   ]
  },
  {
   "cell_type": "code",
   "execution_count": null,
   "metadata": {},
   "outputs": [],
   "source": [
    "unique_timestamps, counts = np.unique(icom_data['Timestamp'], return_counts=True)\n",
    "unique_timestamps = unique_timestamps.astype(np.datetime64)"
   ]
  },
  {
   "cell_type": "code",
   "execution_count": null,
   "metadata": {},
   "outputs": [],
   "source": [
    "stamp = datetime.datetime.fromisoformat(unique_timestamps[0])\n",
    "stamp + datetime.timedelta(500, 'ms')"
   ]
  },
  {
   "cell_type": "code",
   "execution_count": null,
   "metadata": {},
   "outputs": [],
   "source": [
    "unique_timestamps[0] + np.timedelta64(500, 'ms')"
   ]
  },
  {
   "cell_type": "code",
   "execution_count": null,
   "metadata": {},
   "outputs": [],
   "source": [
    "np.timedelta64(20, 'D')"
   ]
  },
  {
   "cell_type": "code",
   "execution_count": null,
   "metadata": {},
   "outputs": [],
   "source": [
    "np.unique(counts)"
   ]
  },
  {
   "cell_type": "code",
   "execution_count": null,
   "metadata": {},
   "outputs": [],
   "source": [
    "time_dt = 1 / (counts + 1)\n",
    "time_dt"
   ]
  },
  {
   "cell_type": "code",
   "execution_count": null,
   "metadata": {},
   "outputs": [],
   "source": [
    "adjusted_timestamps = []\n",
    "\n",
    "for base_timestamp, count in zip(unique_timestamps, counts):\n",
    "    time_dt = 1000 / (count)\n",
    "    \n",
    "    current_dt = time_dt / 2\n",
    "    for i in range(count):\n",
    "        adjusted_timestamps.append(base_timestamp + np.timedelta64(int(current_dt), 'ms'))\n",
    "        current_dt += time_dt"
   ]
  },
  {
   "cell_type": "code",
   "execution_count": null,
   "metadata": {},
   "outputs": [],
   "source": [
    "# adjusted_timestamps = np.array(adjusted_timestamps).astype('datetime64[ms]').astype('uint64')"
   ]
  },
  {
   "cell_type": "code",
   "execution_count": null,
   "metadata": {},
   "outputs": [],
   "source": [
    "def convert_timestamp(timestamp):\n",
    "    return np.array(timestamp).astype('datetime64[ms]').astype('float64') / 60000\n",
    "\n",
    "class Interpolator:\n",
    "    def __init__(self, timestamps, data):\n",
    "        interpolation = scipy.interpolate.UnivariateSpline(\n",
    "            convert_timestamp(timestamps), data, k=1, s=0)\n",
    "        self._interpolation = interpolation\n",
    "\n",
    "    def __call__(self, timestamp):\n",
    "        return self._interpolation(convert_timestamp(timestamp))\n",
    "\n",
    "    def derivative(self, timestamp):\n",
    "        dt = 1/60\n",
    "        minutes = convert_timestamp(timestamp)\n",
    "        return (self._interpolation(minutes + dt/2) - self._interpolation(minutes - dt/2)) / dt\n",
    "\n",
    "keys = ['Gantry', 'Collimator', 'MLC distance at CRA', 'Jaw distance', 'Monitor Units']\n",
    "\n",
    "interpolators = {\n",
    "    key: Interpolator(adjusted_timestamps, icom_data[key])\n",
    "    for key in keys\n",
    "}"
   ]
  },
  {
   "cell_type": "code",
   "execution_count": null,
   "metadata": {},
   "outputs": [],
   "source": [
    "interpolators['Monitor Units']('2020-01-16 17:00:33.500')"
   ]
  },
  {
   "cell_type": "code",
   "execution_count": null,
   "metadata": {},
   "outputs": [],
   "source": [
    "interpolators['Monitor Units'].derivative('2020-01-16 17:07:19')"
   ]
  },
  {
   "cell_type": "code",
   "execution_count": null,
   "metadata": {},
   "outputs": [],
   "source": [
    "match_mask = np.abs(icom_data['Timestamp'].astype(np.datetime64)[:, None] - np.array(image_timestamps).astype(np.datetime64)[None, :]) < np.timedelta64(510, 'ms')"
   ]
  },
  {
   "cell_type": "code",
   "execution_count": null,
   "metadata": {},
   "outputs": [],
   "source": [
    "icom_index, image_index = np.where(match_mask)"
   ]
  },
  {
   "cell_type": "code",
   "execution_count": null,
   "metadata": {},
   "outputs": [],
   "source": [
    "icom_data['Timestamp']"
   ]
  },
  {
   "cell_type": "code",
   "execution_count": null,
   "metadata": {},
   "outputs": [],
   "source": [
    "_, unique_index = np.unique(image_index, return_index=True)\n",
    "icom_index = icom_index[unique_index]\n",
    "image_index = image_index[unique_index]"
   ]
  },
  {
   "cell_type": "code",
   "execution_count": null,
   "metadata": {},
   "outputs": [],
   "source": [
    "energies = icom_data['Energy'][icom_index]"
   ]
  },
  {
   "cell_type": "code",
   "execution_count": null,
   "metadata": {},
   "outputs": [],
   "source": [
    "valid_image_timestamps = np.array(image_timestamps).astype(np.datetime64)[image_index]"
   ]
  },
  {
   "cell_type": "code",
   "execution_count": null,
   "metadata": {},
   "outputs": [],
   "source": [
    "len(image_timestamps)"
   ]
  },
  {
   "cell_type": "code",
   "execution_count": null,
   "metadata": {},
   "outputs": [],
   "source": [
    "valid_image_paths = np.array(images).astype(str)[image_index]"
   ]
  },
  {
   "cell_type": "code",
   "execution_count": null,
   "metadata": {},
   "outputs": [],
   "source": [
    "def get_direction(timestamps):\n",
    "    gantry_derivative = interpolators['Gantry'].derivative(valid_image_timestamps)\n",
    "    result = np.ones_like(timestamps).astype(str)\n",
    "    result[:] = ''\n",
    "    result[gantry_derivative<-1] = 'counter-clockwise'\n",
    "    result[gantry_derivative>1] = 'clockwise'\n",
    "    \n",
    "    return result"
   ]
  },
  {
   "cell_type": "code",
   "execution_count": null,
   "metadata": {},
   "outputs": [],
   "source": [
    "image_values = {\n",
    "    'Timestamp': valid_image_timestamps,\n",
    "    'Path': valid_image_paths,\n",
    "    'Energy': np.array(energies).astype(str),\n",
    "    'Rough Dose Rate': interpolators['Monitor Units'].derivative(valid_image_timestamps),\n",
    "    'Direction': get_direction(valid_image_timestamps),\n",
    "    'Gantry': interpolators['Gantry'](valid_image_timestamps),\n",
    "    'Collimator': interpolators['Collimator'](valid_image_timestamps),\n",
    "    'Width': interpolators['MLC distance at CRA'](valid_image_timestamps),\n",
    "    'Length': interpolators['Jaw distance'](valid_image_timestamps)\n",
    "}\n",
    "\n",
    "per_image_data = pd.DataFrame(image_values)\n",
    "per_image_data.to_csv(results_dir.joinpath('interpolated_iCom_results.csv'), index=False)"
   ]
  },
  {
   "cell_type": "code",
   "execution_count": null,
   "metadata": {},
   "outputs": [],
   "source": [
    "image_arrays = [\n",
    "    pymedphys._losslessjpeg.imread(path) for path in images\n",
    "]"
   ]
  },
  {
   "cell_type": "code",
   "execution_count": null,
   "metadata": {},
   "outputs": [],
   "source": [
    "image_arrays[0]"
   ]
  },
  {
   "cell_type": "code",
   "execution_count": null,
   "metadata": {},
   "outputs": [],
   "source": [
    "i = 50\n",
    "current_data = per_image_data.iloc[i]\n",
    "current_data"
   ]
  },
  {
   "cell_type": "code",
   "execution_count": null,
   "metadata": {},
   "outputs": [],
   "source": [
    "edge_lengths = [current_data['Width'], current_data['Length']]\n",
    "edge_lengths"
   ]
  },
  {
   "cell_type": "code",
   "execution_count": null,
   "metadata": {},
   "outputs": [],
   "source": [
    "bb_diameter = 8"
   ]
  },
  {
   "cell_type": "code",
   "execution_count": null,
   "metadata": {},
   "outputs": [],
   "source": [
    "rotation = current_data['Collimator']"
   ]
  },
  {
   "cell_type": "code",
   "execution_count": null,
   "metadata": {},
   "outputs": [],
   "source": [
    "x, y, img = pymedphys._wlutz.iview.iview_image_transform(image_arrays[i])"
   ]
  },
  {
   "cell_type": "code",
   "execution_count": null,
   "metadata": {},
   "outputs": [],
   "source": [
    "pymedphys._wlutz.core.find_field_and_bb(x, y, img, edge_lengths, bb_diameter, fixed_rotation=rotation, rounding=False, pylinac_tol=np.inf)\n",
    "    "
   ]
  },
  {
   "cell_type": "code",
   "execution_count": null,
   "metadata": {},
   "outputs": [],
   "source": []
  }
 ],
 "metadata": {
  "kernelspec": {
   "display_name": "pymedphys-master",
   "language": "python",
   "name": "pymedphys-master"
  },
  "language_info": {
   "codemirror_mode": {
    "name": "ipython",
    "version": 3
   },
   "file_extension": ".py",
   "mimetype": "text/x-python",
   "name": "python",
   "nbconvert_exporter": "python",
   "pygments_lexer": "ipython3",
   "version": "3.7.0"
  }
 },
 "nbformat": 4,
 "nbformat_minor": 4
}
