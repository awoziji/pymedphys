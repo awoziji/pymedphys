{
 "cells": [
  {
   "cell_type": "markdown",
   "metadata": {},
   "source": [
    "# Winston Lutz from Varian DICOM images\n",
    "\n",
    "**Disclaimer**: All pixel size extraction code is a first pass **guess**.\n",
    "I do not have access to a Varian Linac. Validation of this example from a Varian user would be appreciated. Please raise an issue via https://github.com/pymedphys/pymedphys/issues/new to either confirm that you have been able to validate this or provide a counter example to where there are issues here."
   ]
  },
  {
   "cell_type": "code",
   "execution_count": null,
   "metadata": {},
   "outputs": [],
   "source": [
    "import numpy as np\n",
    "import matplotlib.pyplot as plt\n",
    "\n",
    "import IPython.display\n",
    "\n",
    "import pydicom"
   ]
  },
  {
   "cell_type": "code",
   "execution_count": null,
   "metadata": {},
   "outputs": [],
   "source": [
    "import pymedphys\n",
    "import pymedphys.wlutz"
   ]
  },
  {
   "cell_type": "code",
   "execution_count": null,
   "metadata": {},
   "outputs": [],
   "source": [
    "dicom_wlutz_paths = pymedphys.zip_data_paths('denis_wlutz_images.zip')\n",
    "dicom_files = [pydicom.read_file(str(path), force=True) for path in dicom_wlutz_paths]\n",
    "dcm_header = dicom_files[0]"
   ]
  },
  {
   "cell_type": "code",
   "execution_count": null,
   "metadata": {},
   "outputs": [],
   "source": [
    "sad = float(dcm_header.RadiationMachineSAD)\n",
    "panel_adjustment = -float(dcm_header.XRayImageReceptorTranslation[2])\n",
    "panel_ssd = panel_adjustment + sad\n",
    "\n",
    "guess_at_pixel_spacing_at_iso = np.array(dcm_header.ImagePlanePixelSpacing).astype(float) / panel_ssd * sad\n",
    "dx, dy = guess_at_pixel_spacing_at_iso\n",
    "\n",
    "dx, dy"
   ]
  },
  {
   "cell_type": "code",
   "execution_count": null,
   "metadata": {},
   "outputs": [],
   "source": [
    "half_range_x = dcm_header.Columns * dy / 2\n",
    "half_range_y = dcm_header.Rows * dx / 2"
   ]
  },
  {
   "cell_type": "code",
   "execution_count": null,
   "metadata": {},
   "outputs": [],
   "source": [
    "x = np.linspace(-half_range_x, half_range_x, dcm_header.Columns)\n",
    "y = np.linspace(-half_range_y, half_range_y, dcm_header.Rows)"
   ]
  },
  {
   "cell_type": "code",
   "execution_count": null,
   "metadata": {},
   "outputs": [],
   "source": [
    "jaw_pos = {\n",
    "    coll.RTBeamLimitingDeviceType: np.array(coll.LeafJawPositions).astype(float)\n",
    "    for coll in dcm_header.ExposureSequence[0].BeamLimitingDeviceSequence\n",
    "}\n",
    "\n",
    "jaw_pos"
   ]
  },
  {
   "cell_type": "code",
   "execution_count": null,
   "metadata": {},
   "outputs": [],
   "source": [
    "field_size_x = np.diff(jaw_pos['ASYMX'])[0]\n",
    "field_size_y = np.diff(jaw_pos['ASYMY'])[0]\n",
    "\n",
    "edge_lengths = [field_size_x, field_size_y]"
   ]
  },
  {
   "cell_type": "code",
   "execution_count": null,
   "metadata": {},
   "outputs": [],
   "source": [
    "penumbra = 2\n",
    "bb_diameter = 8"
   ]
  },
  {
   "cell_type": "code",
   "execution_count": null,
   "metadata": {},
   "outputs": [],
   "source": [
    "gantries = np.array([\n",
    "    np.round(dcm.GantryAngle, 2) for dcm in dicom_files\n",
    "])\n",
    "\n",
    "gantries"
   ]
  },
  {
   "cell_type": "code",
   "execution_count": null,
   "metadata": {},
   "outputs": [],
   "source": [
    "colls = np.array([\n",
    "    np.round(dcm.BeamLimitingDeviceAngle, 2) for dcm in dicom_files\n",
    "])\n",
    "\n",
    "colls"
   ]
  },
  {
   "cell_type": "code",
   "execution_count": null,
   "metadata": {},
   "outputs": [],
   "source": [
    "images = [dcm.pixel_array for dcm in dicom_files]\n",
    "scaled_images = [\n",
    "    img[::-1, :] / 2 ** 16 for img in images\n",
    "]"
   ]
  },
  {
   "cell_type": "code",
   "execution_count": null,
   "metadata": {},
   "outputs": [],
   "source": [
    "for img in scaled_images:\n",
    "    plt.figure()\n",
    "    plt.imshow(scaled_images[0])\n",
    "    plt.colorbar()"
   ]
  },
  {
   "cell_type": "code",
   "execution_count": null,
   "metadata": {},
   "outputs": [],
   "source": [
    "def display_markdown(string):\n",
    "    IPython.display.display(IPython.display.Markdown(string))\n",
    "    \n",
    "display_markdown('## Example heading')"
   ]
  },
  {
   "cell_type": "code",
   "execution_count": null,
   "metadata": {},
   "outputs": [],
   "source": [
    "bb_centre, field_centre, field_rotation = pymedphys.wlutz.find_field_and_bb(\n",
    "    x,\n",
    "    y,\n",
    "    img,\n",
    "    edge_lengths,\n",
    "    bb_diameter,\n",
    "    penumbra=2,\n",
    "    fixed_rotation=collimator_angle,\n",
    "    rounding=False,\n",
    "    pylinac_tol=0.2,\n",
    "    ignore_pylinac=False\n",
    ")"
   ]
  },
  {
   "cell_type": "code",
   "execution_count": null,
   "metadata": {},
   "outputs": [],
   "source": [
    "def analysis(x, y, img, collimator_angle):\n",
    "    field_centre, field_rotation = pymedphys._wlutz.findfield.field_centre_and_rotation_refining(\n",
    "        field, edge_lengths, penumbra, initial_centre, pylinac_tol=np.inf, fixed_rotation=collimator_angle\n",
    "    )    \n",
    "\n",
    "    bb_centre = pymedphys._wlutz.findbb.optimise_bb_centre( \n",
    "        field, bb_diameter, edge_lengths, penumbra, field_centre, field_rotation, ignore_pylinac=True\n",
    "    )\n",
    "    \n",
    "    pymedphys.wlutz.reporting.image_analysis_figure(\n",
    "        x,\n",
    "        y,\n",
    "        img,\n",
    "        bb_centre,\n",
    "        field_centre,\n",
    "        collimator_angle,\n",
    "        bb_diameter,\n",
    "        edge_lengths,\n",
    "        penumbra,\n",
    "    )\n",
    "\n",
    "    plt.title('PyMedPhys Basinhopping Method')\n",
    "    \n",
    "    try:\n",
    "        pylinac = pymedphys._wlutz.pylinac.run_wlutz(\n",
    "            field, edge_lengths, penumbra, field_centre, collimator_angle)\n",
    "    \n",
    "        pymedphys._wlutz.reporting.image_analysis_figure(\n",
    "            x,\n",
    "            y,\n",
    "            img,\n",
    "            pylinac['v2.2.6']['bb_centre'],\n",
    "            pylinac['v2.2.6']['field_centre'],\n",
    "            collimator_angle,\n",
    "            bb_diameter,\n",
    "            edge_lengths,\n",
    "            penumbra,\n",
    "        )\n",
    "\n",
    "        plt.title('Pylinac v2.2.6 Filter and Profile Method')\n",
    "\n",
    "        pymedphys._wlutz.reporting.image_analysis_figure(\n",
    "            x,\n",
    "            y,\n",
    "            img,\n",
    "            pylinac['v2.2.7']['bb_centre'],\n",
    "            pylinac['v2.2.7']['field_centre'],\n",
    "            collimator_angle,\n",
    "            bb_diameter,\n",
    "            edge_lengths,\n",
    "            penumbra,\n",
    "        )\n",
    "\n",
    "        plt.title('Pylinac v2.2.7 Filter and Scikit-Image Method')\n",
    "    except Exception as e:\n",
    "        print(e)\n",
    "        \n",
    "    return np.array(field_centre) - np.array(bb_centre)"
   ]
  },
  {
   "cell_type": "code",
   "execution_count": null,
   "metadata": {},
   "outputs": [],
   "source": [
    "for img, coll, gantry in zip(scaled_images, colls, gantries):\n",
    "    display_markdown(f'## Gantry {coll} | Collimator {gantry}')\n",
    "    \n",
    "    deviation = np.round(analysis(x, y, img, coll), 2)\n",
    "    display_markdown(\n",
    "        f'PyMedPhys field centre - BB centre (mm):\\n\\n```python\\n[x, y] = [{deviation[0]}, {deviation[1]}]\\n```'\n",
    "    )\n",
    "    plt.show()"
   ]
  }
 ],
 "metadata": {
  "kernelspec": {
   "display_name": "pymedphys-master",
   "language": "python",
   "name": "pymedphys-master"
  },
  "language_info": {
   "codemirror_mode": {
    "name": "ipython",
    "version": 3
   },
   "file_extension": ".py",
   "mimetype": "text/x-python",
   "name": "python",
   "nbconvert_exporter": "python",
   "pygments_lexer": "ipython3",
   "version": "3.7.0"
  }
 },
 "nbformat": 4,
 "nbformat_minor": 4
}
